{
 "cells": [
  {
   "cell_type": "code",
   "execution_count": 1,
   "metadata": {
    "collapsed": false,
    "scrolled": true
   },
   "outputs": [
    {
     "name": "stderr",
     "output_type": "stream",
     "text": [
      "Using Theano backend.\n"
     ]
    }
   ],
   "source": [
    "from ds_utils.imports import *"
   ]
  },
  {
   "cell_type": "markdown",
   "metadata": {},
   "source": [
    "### Dense layer "
   ]
  },
  {
   "cell_type": "code",
   "execution_count": 2,
   "metadata": {
    "collapsed": true
   },
   "outputs": [],
   "source": [
    "num_inputs = 5\n",
    "dim_input = 3\n",
    "dim_output = 2"
   ]
  },
  {
   "cell_type": "code",
   "execution_count": 3,
   "metadata": {
    "collapsed": false
   },
   "outputs": [
    {
     "data": {
      "text/plain": [
       "array([[ 0.07653947,  0.26790535,  0.65997216],\n",
       "       [ 0.28191257,  0.51595382,  0.0174428 ],\n",
       "       [ 0.1030207 ,  0.32186889,  0.56151321],\n",
       "       [ 0.47605008,  0.60031281,  0.94243888],\n",
       "       [ 0.51229356,  0.52565987,  0.63236035]])"
      ]
     },
     "execution_count": 3,
     "metadata": {},
     "output_type": "execute_result"
    }
   ],
   "source": [
    "x = np.random.random(size=(num_inputs, dim_input))\n",
    "x"
   ]
  },
  {
   "cell_type": "code",
   "execution_count": 4,
   "metadata": {
    "collapsed": false
   },
   "outputs": [],
   "source": [
    "layer = keras.layers.Dense(\n",
    "    units=dim_output,\n",
    "    input_shape=(dim_input, ),  # same as input_dim=dim_input, \n",
    "    kernel_initializer='glorot_uniform',\n",
    "    bias_initializer='glorot_uniform'  # using a non-default bias_initializer for illustration\n",
    ")"
   ]
  },
  {
   "cell_type": "markdown",
   "metadata": {},
   "source": [
    "layer has no weights before added to the model."
   ]
  },
  {
   "cell_type": "code",
   "execution_count": 5,
   "metadata": {
    "collapsed": false
   },
   "outputs": [
    {
     "data": {
      "text/plain": [
       "[]"
      ]
     },
     "execution_count": 5,
     "metadata": {},
     "output_type": "execute_result"
    }
   ],
   "source": [
    "layer.get_weights()"
   ]
  },
  {
   "cell_type": "code",
   "execution_count": 6,
   "metadata": {
    "collapsed": true
   },
   "outputs": [],
   "source": [
    "mdl = keras.models.Sequential()\n",
    "mdl.add(layer)"
   ]
  },
  {
   "cell_type": "code",
   "execution_count": 7,
   "metadata": {
    "collapsed": false,
    "scrolled": true
   },
   "outputs": [
    {
     "data": {
      "text/plain": [
       "[array([[ 0.25506416,  0.76902759],\n",
       "        [ 0.88849533,  0.67856836],\n",
       "        [-0.71100366, -0.20240526]], dtype=float32),\n",
       " array([-0.55402488, -1.44881821], dtype=float32)]"
      ]
     },
     "execution_count": 7,
     "metadata": {},
     "output_type": "execute_result"
    }
   ],
   "source": [
    "layer.get_weights()"
   ]
  },
  {
   "cell_type": "markdown",
   "metadata": {},
   "source": [
    "Notice that I did not compile or fit the model. "
   ]
  },
  {
   "cell_type": "code",
   "execution_count": 8,
   "metadata": {
    "collapsed": false
   },
   "outputs": [
    {
     "data": {
      "text/plain": [
       "array([[-0.76571238, -1.34174693],\n",
       "       [-0.03609836, -0.88544023],\n",
       "       [-0.64100695, -1.2648356 ],\n",
       "       [-0.56930393, -0.86612386],\n",
       "       [-0.40592134, -0.8261472 ]], dtype=float32)"
      ]
     },
     "execution_count": 8,
     "metadata": {},
     "output_type": "execute_result"
    }
   ],
   "source": [
    "model_outputs = mdl.predict(x)\n",
    "model_outputs"
   ]
  },
  {
   "cell_type": "code",
   "execution_count": 9,
   "metadata": {
    "collapsed": false
   },
   "outputs": [
    {
     "data": {
      "text/plain": [
       "array([[-0.76571237, -1.34174698],\n",
       "       [-0.03609843, -0.88544024],\n",
       "       [-0.64100693, -1.26483562],\n",
       "       [-0.56930393, -0.86612387],\n",
       "       [-0.40592134, -0.82614723]])"
      ]
     },
     "execution_count": 9,
     "metadata": {},
     "output_type": "execute_result"
    }
   ],
   "source": [
    "A = layer.get_weights()[0]\n",
    "b = layer.get_weights()[1]\n",
    "Ax_plus_b = np.dot(x, A) + b\n",
    "Ax_plus_b"
   ]
  },
  {
   "cell_type": "code",
   "execution_count": 10,
   "metadata": {
    "collapsed": false
   },
   "outputs": [],
   "source": [
    "assert np.allclose(model_outputs, Ax_plus_b)"
   ]
  },
  {
   "cell_type": "markdown",
   "metadata": {},
   "source": [
    "### Merge"
   ]
  },
  {
   "cell_type": "code",
   "execution_count": 48,
   "metadata": {
    "collapsed": true
   },
   "outputs": [],
   "source": [
    "num_inputs = 5\n",
    "dim_input = 3"
   ]
  },
  {
   "cell_type": "code",
   "execution_count": 49,
   "metadata": {
    "collapsed": false
   },
   "outputs": [
    {
     "data": {
      "text/plain": [
       "(array([[ 0.3132127 ,  0.67126225,  0.79636269],\n",
       "        [ 0.98416317,  0.76735584,  0.82054208],\n",
       "        [ 0.06820545,  0.7609458 ,  0.75008431],\n",
       "        [ 0.71839043,  0.19364626,  0.70440087],\n",
       "        [ 0.09065335,  0.24586838,  0.84002404]]),\n",
       " array([[ 0.63132812,  0.06536108,  0.66949875],\n",
       "        [ 0.10078384,  0.6720486 ,  0.88584415],\n",
       "        [ 0.76468754,  0.93753843,  0.38084304],\n",
       "        [ 0.48264454,  0.21970667,  0.288071  ],\n",
       "        [ 0.63298998,  0.07471427,  0.17576027]]))"
      ]
     },
     "execution_count": 49,
     "metadata": {},
     "output_type": "execute_result"
    }
   ],
   "source": [
    "x1 = np.random.random(size=(num_inputs, dim_input))\n",
    "x2 = np.random.random(size=(num_inputs, dim_input))\n",
    "x1, x2"
   ]
  },
  {
   "cell_type": "code",
   "execution_count": null,
   "metadata": {
    "collapsed": true
   },
   "outputs": [],
   "source": [
    "inputs1 = np.random."
   ]
  },
  {
   "cell_type": "code",
   "execution_count": 50,
   "metadata": {
    "collapsed": true
   },
   "outputs": [],
   "source": [
    "in1 = keras.layers.Input(shape=(dim_input,))\n",
    "in2 = keras.layers.Input(shape=(dim_input,))"
   ]
  },
  {
   "cell_type": "code",
   "execution_count": 51,
   "metadata": {
    "collapsed": false,
    "scrolled": true
   },
   "outputs": [
    {
     "name": "stderr",
     "output_type": "stream",
     "text": [
      "/opt/conda/lib/python3.6/site-packages/ipykernel/__main__.py:1: UserWarning: The `merge` function is deprecated and will be removed after 08/2017. Use instead layers from `keras.layers.merge`, e.g. `sum`, `concatenate`, etc.\n",
      "  if __name__ == '__main__':\n",
      "/opt/conda/lib/python3.6/site-packages/Keras-2.0.0-py3.6.egg/keras/legacy/layers.py:456: UserWarning: The `Merge` layer is deprecated and will be removed after 08/2017. Use instead layers from `keras.layers.merge`, e.g. `add`, `concatenate`, etc.\n",
      "  name=name)\n"
     ]
    }
   ],
   "source": [
    "layer_merge = keras.layers.merge([in1, in2], mode='sum')"
   ]
  },
  {
   "cell_type": "code",
   "execution_count": 53,
   "metadata": {
    "collapsed": false
   },
   "outputs": [],
   "source": [
    "model = keras.models.Model(\n",
    "    inputs=[in1, in2],\n",
    "    outputs=layer_merge\n",
    ")"
   ]
  },
  {
   "cell_type": "code",
   "execution_count": 56,
   "metadata": {
    "collapsed": false
   },
   "outputs": [
    {
     "data": {
      "text/plain": [
       "array([[ 0.9445408 ,  0.73662335,  1.46586144],\n",
       "       [ 1.08494699,  1.43940449,  1.70638633],\n",
       "       [ 0.83289301,  1.69848418,  1.13092732],\n",
       "       [ 1.2010349 ,  0.41335291,  0.99247193],\n",
       "       [ 0.72364336,  0.32058266,  1.01578426]], dtype=float32)"
      ]
     },
     "execution_count": 56,
     "metadata": {},
     "output_type": "execute_result"
    }
   ],
   "source": [
    "merged = model.predict([x1, x2])\n",
    "merged"
   ]
  },
  {
   "cell_type": "code",
   "execution_count": 58,
   "metadata": {
    "collapsed": false,
    "scrolled": false
   },
   "outputs": [
    {
     "data": {
      "text/plain": [
       "array([[ 0.94454082,  0.73662333,  1.46586144],\n",
       "       [ 1.08494701,  1.43940444,  1.70638623],\n",
       "       [ 0.83289299,  1.69848424,  1.13092735],\n",
       "       [ 1.20103497,  0.41335293,  0.99247187],\n",
       "       [ 0.72364333,  0.32058266,  1.01578432]])"
      ]
     },
     "execution_count": 58,
     "metadata": {},
     "output_type": "execute_result"
    }
   ],
   "source": [
    "x1_plus_x2 = x1 + x2\n",
    "x1_plus_x2"
   ]
  },
  {
   "cell_type": "code",
   "execution_count": 59,
   "metadata": {
    "collapsed": false
   },
   "outputs": [
    {
     "data": {
      "text/plain": [
       "True"
      ]
     },
     "execution_count": 59,
     "metadata": {},
     "output_type": "execute_result"
    }
   ],
   "source": [
    "np.allclose(merged, x1_plus_x2)"
   ]
  }
 ],
 "metadata": {
  "kernelspec": {
   "display_name": "Python 3",
   "language": "python",
   "name": "python3"
  },
  "language_info": {
   "codemirror_mode": {
    "name": "ipython",
    "version": 3
   },
   "file_extension": ".py",
   "mimetype": "text/x-python",
   "name": "python",
   "nbconvert_exporter": "python",
   "pygments_lexer": "ipython3",
   "version": "3.6.0"
  },
  "toc": {
   "colors": {
    "hover_highlight": "#DAA520",
    "running_highlight": "#FF0000",
    "selected_highlight": "#FFD700"
   },
   "moveMenuLeft": true,
   "nav_menu": {
    "height": "12px",
    "width": "252px"
   },
   "navigate_menu": true,
   "number_sections": true,
   "sideBar": true,
   "threshold": 4,
   "toc_cell": false,
   "toc_section_display": "block",
   "toc_window_display": false,
   "widenNotebook": false
  }
 },
 "nbformat": 4,
 "nbformat_minor": 2
}
