{
 "cells": [
  {
   "cell_type": "markdown",
   "metadata": {},
   "source": [
    "Demo to verify the number of paramters of layers in Keras models."
   ]
  },
  {
   "cell_type": "code",
   "execution_count": 82,
   "metadata": {
    "collapsed": false
   },
   "outputs": [],
   "source": [
    "from keras.models import Sequential\n",
    "from keras.layers import Dense, Dropout, Activation, Flatten\n",
    "from keras.layers import Conv2D, MaxPooling2D\n",
    "from keras.layers import Embedding\n",
    "from keras.layers import Conv1D, GlobalAveragePooling1D, MaxPooling1D\n",
    "from keras.layers import SimpleRNN, LSTM"
   ]
  },
  {
   "cell_type": "markdown",
   "metadata": {},
   "source": [
    "### Multilayer Perceptron (MLP) for multi-class softmax classification"
   ]
  },
  {
   "cell_type": "code",
   "execution_count": 83,
   "metadata": {
    "collapsed": true
   },
   "outputs": [],
   "source": [
    "model = Sequential()\n",
    "# Dense(64) is a fully-connected layer with 64 hidden units.\n",
    "# in the first layer, you must specify the expected input data shape:\n",
    "# here, 20-dimensional vectors.\n",
    "model.add(Dense(7, activation='relu', input_dim=20))\n",
    "model.add(Dropout(0.5))\n",
    "model.add(Dense(13, activation='relu'))\n",
    "model.add(Dropout(0.5))\n",
    "model.add(Dense(23, activation='softmax'))"
   ]
  },
  {
   "cell_type": "code",
   "execution_count": 84,
   "metadata": {
    "collapsed": false,
    "scrolled": true
   },
   "outputs": [
    {
     "name": "stdout",
     "output_type": "stream",
     "text": [
      "_________________________________________________________________\n",
      "Layer (type)                 Output Shape              Param #   \n",
      "=================================================================\n",
      "dense_18 (Dense)             (None, 7)                 147       \n",
      "_________________________________________________________________\n",
      "dropout_1 (Dropout)          (None, 7)                 0         \n",
      "_________________________________________________________________\n",
      "dense_19 (Dense)             (None, 13)                104       \n",
      "_________________________________________________________________\n",
      "dropout_2 (Dropout)          (None, 13)                0         \n",
      "_________________________________________________________________\n",
      "dense_20 (Dense)             (None, 23)                322       \n",
      "=================================================================\n",
      "Total params: 573.0\n",
      "Trainable params: 573.0\n",
      "Non-trainable params: 0.0\n",
      "_________________________________________________________________\n",
      "None\n"
     ]
    }
   ],
   "source": [
    "print(model.summary())\n",
    "\n",
    "assert (7 * (20 + 1) == 147)\n",
    "assert (13 * (7 + 1) == 104)\n",
    "assert (23 * (13 + 1) == 322)"
   ]
  },
  {
   "cell_type": "markdown",
   "metadata": {},
   "source": [
    "### MLP for binary classification"
   ]
  },
  {
   "cell_type": "code",
   "execution_count": 85,
   "metadata": {
    "collapsed": true
   },
   "outputs": [],
   "source": [
    "model = Sequential()\n",
    "model.add(Dense(7, input_dim=20, activation='relu'))\n",
    "model.add(Dropout(0.5))\n",
    "model.add(Dense(13, activation='relu'))\n",
    "model.add(Dropout(0.5))\n",
    "model.add(Dense(1, activation='sigmoid'))"
   ]
  },
  {
   "cell_type": "code",
   "execution_count": 86,
   "metadata": {
    "collapsed": false,
    "scrolled": true
   },
   "outputs": [
    {
     "name": "stdout",
     "output_type": "stream",
     "text": [
      "_________________________________________________________________\n",
      "Layer (type)                 Output Shape              Param #   \n",
      "=================================================================\n",
      "dense_21 (Dense)             (None, 7)                 147       \n",
      "_________________________________________________________________\n",
      "dropout_3 (Dropout)          (None, 7)                 0         \n",
      "_________________________________________________________________\n",
      "dense_22 (Dense)             (None, 13)                104       \n",
      "_________________________________________________________________\n",
      "dropout_4 (Dropout)          (None, 13)                0         \n",
      "_________________________________________________________________\n",
      "dense_23 (Dense)             (None, 1)                 14        \n",
      "=================================================================\n",
      "Total params: 265.0\n",
      "Trainable params: 265.0\n",
      "Non-trainable params: 0.0\n",
      "_________________________________________________________________\n",
      "None\n"
     ]
    }
   ],
   "source": [
    "print(model.summary())\n",
    "\n",
    "assert (7 * (20 + 1) == 147)\n",
    "assert (13 * (7 + 1) == 104)\n",
    "assert (1 * (13 + 1) == 14)"
   ]
  },
  {
   "cell_type": "markdown",
   "metadata": {},
   "source": [
    "### VGG-like convnet"
   ]
  },
  {
   "cell_type": "code",
   "execution_count": 87,
   "metadata": {
    "collapsed": true
   },
   "outputs": [],
   "source": [
    "model = Sequential()\n",
    "# input: 100x100 images with 3 channels -> (100, 100, 3) tensors.\n",
    "# this applies 23 convolution filters of size 3x3 each.\n",
    "model.add(Conv2D(7, (3, 3), activation='relu', input_shape=(100, 100, 3)))\n",
    "model.add(Conv2D(13, (3, 3), activation='relu'))\n",
    "model.add(MaxPooling2D(pool_size=(2, 2)))\n",
    "model.add(Dropout(0.25))\n",
    "\n",
    "model.add(Conv2D(17, (3, 3), activation='relu'))\n",
    "model.add(Conv2D(19, (3, 3), activation='relu'))\n",
    "model.add(MaxPooling2D(pool_size=(2, 2)))\n",
    "model.add(Dropout(0.25))\n",
    "\n",
    "model.add(Flatten())\n",
    "model.add(Dense(23, activation='relu'))\n",
    "model.add(Dropout(0.5))\n",
    "model.add(Dense(29, activation='softmax'))"
   ]
  },
  {
   "cell_type": "code",
   "execution_count": 88,
   "metadata": {
    "collapsed": false,
    "scrolled": false
   },
   "outputs": [
    {
     "name": "stdout",
     "output_type": "stream",
     "text": [
      "_________________________________________________________________\n",
      "Layer (type)                 Output Shape              Param #   \n",
      "=================================================================\n",
      "conv2d_1 (Conv2D)            (None, 98, 98, 7)         196       \n",
      "_________________________________________________________________\n",
      "conv2d_2 (Conv2D)            (None, 96, 96, 13)        832       \n",
      "_________________________________________________________________\n",
      "max_pooling2d_1 (MaxPooling2 (None, 48, 48, 13)        0         \n",
      "_________________________________________________________________\n",
      "dropout_5 (Dropout)          (None, 48, 48, 13)        0         \n",
      "_________________________________________________________________\n",
      "conv2d_3 (Conv2D)            (None, 46, 46, 17)        2006      \n",
      "_________________________________________________________________\n",
      "conv2d_4 (Conv2D)            (None, 44, 44, 19)        2926      \n",
      "_________________________________________________________________\n",
      "max_pooling2d_2 (MaxPooling2 (None, 22, 22, 19)        0         \n",
      "_________________________________________________________________\n",
      "dropout_6 (Dropout)          (None, 22, 22, 19)        0         \n",
      "_________________________________________________________________\n",
      "flatten_1 (Flatten)          (None, 9196)              0         \n",
      "_________________________________________________________________\n",
      "dense_24 (Dense)             (None, 23)                211531    \n",
      "_________________________________________________________________\n",
      "dropout_7 (Dropout)          (None, 23)                0         \n",
      "_________________________________________________________________\n",
      "dense_25 (Dense)             (None, 29)                696       \n",
      "=================================================================\n",
      "Total params: 218,187.0\n",
      "Trainable params: 218,187.0\n",
      "Non-trainable params: 0.0\n",
      "_________________________________________________________________\n",
      "None\n"
     ]
    }
   ],
   "source": [
    "print(model.summary())\n",
    "\n",
    "assert (7 * (3 * (3 * 3) + 1) == 196)\n",
    "assert (13 * (7 * (3 * 3) + 1) == 832)\n",
    "assert (17 * (13 * (3 * 3) + 1) == 2006)\n",
    "assert (19 * (17 * (3 * 3) + 1) == 2926)\n",
    "assert (22 * 22 * 19 == 9196)\n",
    "assert (23 * (9196 + 1) == 211531)\n",
    "assert (29 * (23 + 1) == 696)"
   ]
  },
  {
   "cell_type": "markdown",
   "metadata": {},
   "source": [
    "### Simple RNN\n",
    "https://github.com/yang-zhang/courses/blob/master/deeplearning1/nbs/lesson6.ipynb"
   ]
  },
  {
   "cell_type": "code",
   "execution_count": 89,
   "metadata": {
    "collapsed": false
   },
   "outputs": [
    {
     "name": "stdout",
     "output_type": "stream",
     "text": [
      "_________________________________________________________________\n",
      "Layer (type)                 Output Shape              Param #   \n",
      "=================================================================\n",
      "embedding_1 (Embedding)      (None, 8, 42)             3612      \n",
      "_________________________________________________________________\n",
      "simple_rnn_1 (SimpleRNN)     (None, 256)               76544     \n",
      "_________________________________________________________________\n",
      "dense_26 (Dense)             (None, 86)                22102     \n",
      "=================================================================\n",
      "Total params: 102,258.0\n",
      "Trainable params: 102,258\n",
      "Non-trainable params: 0.0\n",
      "_________________________________________________________________\n",
      "None\n"
     ]
    },
    {
     "name": "stderr",
     "output_type": "stream",
     "text": [
      "/opt/conda/lib/python3.6/site-packages/Keras-2.0.0-py3.6.egg/keras/legacy/interfaces.py:86: UserWarning: Update your `SimpleRNN` call to the Keras 2 API: `SimpleRNN(256, activation=\"relu\", recurrent_initializer=\"identity\")`\n",
      "  '` call to the Keras 2 API: ' + signature)\n"
     ]
    }
   ],
   "source": [
    "n_hidden, n_fac, cs, vocab_size = (256, 42, 8, 86)\n",
    "\n",
    "model = Sequential([\n",
    "    Embedding(\n",
    "        input_dim=vocab_size, output_dim=n_fac, input_length=cs), SimpleRNN(\n",
    "            n_hidden, activation='relu', inner_init='identity'), Dense(\n",
    "                vocab_size, activation='softmax')\n",
    "])\n",
    "\n",
    "print(model.summary())"
   ]
  },
  {
   "cell_type": "code",
   "execution_count": 90,
   "metadata": {
    "collapsed": false
   },
   "outputs": [],
   "source": [
    "assert 86 * 42 == 3612\n",
    "\n",
    "assert 86 * (256 + 1) == 22102\n",
    "\n",
    "assert 256 * (42 + (256 + 1)) == 76544"
   ]
  },
  {
   "cell_type": "code",
   "execution_count": 91,
   "metadata": {
    "collapsed": false
   },
   "outputs": [],
   "source": [
    "assert 256 * (42 + (256 + 1)) == 76544"
   ]
  },
  {
   "cell_type": "markdown",
   "metadata": {},
   "source": [
    "### Sequence classification with LSTM"
   ]
  },
  {
   "cell_type": "code",
   "execution_count": 92,
   "metadata": {
    "collapsed": false
   },
   "outputs": [],
   "source": [
    "max_features = 7\n",
    "model = Sequential()\n",
    "model.add(Embedding(max_features, output_dim=13))\n",
    "model.add(LSTM(17))\n",
    "model.add(Dropout(0.5))\n",
    "model.add(Dense(1, activation='sigmoid'))"
   ]
  },
  {
   "cell_type": "code",
   "execution_count": 93,
   "metadata": {
    "collapsed": false,
    "scrolled": false
   },
   "outputs": [
    {
     "name": "stdout",
     "output_type": "stream",
     "text": [
      "_________________________________________________________________\n",
      "Layer (type)                 Output Shape              Param #   \n",
      "=================================================================\n",
      "embedding_2 (Embedding)      (None, None, 13)          91        \n",
      "_________________________________________________________________\n",
      "lstm_52 (LSTM)               (None, 17)                2108      \n",
      "_________________________________________________________________\n",
      "dropout_8 (Dropout)          (None, 17)                0         \n",
      "_________________________________________________________________\n",
      "dense_27 (Dense)             (None, 1)                 18        \n",
      "=================================================================\n",
      "Total params: 2,217.0\n",
      "Trainable params: 2,217.0\n",
      "Non-trainable params: 0.0\n",
      "_________________________________________________________________\n",
      "None\n"
     ]
    }
   ],
   "source": [
    "print(model.summary())\n",
    "\n",
    "assert 13 * 7 == 91\n",
    "assert (13 * 4 + 72) * 17 == 2108\n",
    "assert 1 * (17 + 1) == 18"
   ]
  },
  {
   "cell_type": "markdown",
   "metadata": {},
   "source": [
    "### Sequence classification with 1D convolutions"
   ]
  },
  {
   "cell_type": "code",
   "execution_count": 94,
   "metadata": {
    "collapsed": true
   },
   "outputs": [],
   "source": [
    "seq_length = 70\n",
    "model = Sequential()\n",
    "model.add(Conv1D(13, 5, activation='relu', input_shape=(seq_length, 103)))\n",
    "model.add(Conv1D(17, 4, activation='relu'))\n",
    "model.add(MaxPooling1D(3))\n",
    "model.add(Conv1D(19, 7, activation='relu'))\n",
    "model.add(Conv1D(23, 6, activation='relu'))\n",
    "model.add(GlobalAveragePooling1D())\n",
    "model.add(Dropout(0.5))\n",
    "model.add(Dense(1, activation='sigmoid'))"
   ]
  },
  {
   "cell_type": "code",
   "execution_count": 95,
   "metadata": {
    "collapsed": false,
    "scrolled": false
   },
   "outputs": [
    {
     "name": "stdout",
     "output_type": "stream",
     "text": [
      "_________________________________________________________________\n",
      "Layer (type)                 Output Shape              Param #   \n",
      "=================================================================\n",
      "conv1d_1 (Conv1D)            (None, 66, 13)            6708      \n",
      "_________________________________________________________________\n",
      "conv1d_2 (Conv1D)            (None, 63, 17)            901       \n",
      "_________________________________________________________________\n",
      "max_pooling1d_1 (MaxPooling1 (None, 21, 17)            0         \n",
      "_________________________________________________________________\n",
      "conv1d_3 (Conv1D)            (None, 15, 19)            2280      \n",
      "_________________________________________________________________\n",
      "conv1d_4 (Conv1D)            (None, 10, 23)            2645      \n",
      "_________________________________________________________________\n",
      "global_average_pooling1d_1 ( (None, 23)                0         \n",
      "_________________________________________________________________\n",
      "dropout_9 (Dropout)          (None, 23)                0         \n",
      "_________________________________________________________________\n",
      "dense_28 (Dense)             (None, 1)                 24        \n",
      "=================================================================\n",
      "Total params: 12,558.0\n",
      "Trainable params: 12,558.0\n",
      "Non-trainable params: 0.0\n",
      "_________________________________________________________________\n",
      "None\n"
     ]
    }
   ],
   "source": [
    "print(model.summary())\n",
    "assert (13 * (5 * 103 + 1) == 6708)\n",
    "assert (17 * (4 * 13 + 1) == 901)\n",
    "assert (63 / 3 == 21)\n",
    "assert (19 * (7 * 17 + 1) == 2280)\n",
    "assert (23 * (6 * 19 + 1) == 2645)\n",
    "assert (1 * (23 + 1) == 24)"
   ]
  },
  {
   "cell_type": "markdown",
   "metadata": {
    "collapsed": true
   },
   "source": [
    "### Stacked LSTM for sequence classification"
   ]
  },
  {
   "cell_type": "code",
   "execution_count": 96,
   "metadata": {
    "collapsed": false
   },
   "outputs": [],
   "source": [
    "data_dim = 11\n",
    "timesteps = 7\n",
    "\n",
    "# expected input data shape: (batch_size, timesteps, data_dim)\n",
    "model = Sequential()\n",
    "model.add(LSTM(\n",
    "    31, return_sequences=True, input_shape=(\n",
    "        timesteps, data_dim)))  # returns a sequence of vectors of dimension 31\n",
    "model.add(LSTM(\n",
    "    37,\n",
    "    return_sequences=True))  # returns a sequence of vectors of dimension 37\n",
    "model.add(LSTM(41))  # return a single vector of dimension 41\n",
    "model.add(Dense(17, activation='softmax'))"
   ]
  },
  {
   "cell_type": "code",
   "execution_count": 97,
   "metadata": {
    "collapsed": false,
    "scrolled": true
   },
   "outputs": [
    {
     "name": "stdout",
     "output_type": "stream",
     "text": [
      "_________________________________________________________________\n",
      "Layer (type)                 Output Shape              Param #   \n",
      "=================================================================\n",
      "lstm_53 (LSTM)               (None, 7, 31)             5332      \n",
      "_________________________________________________________________\n",
      "lstm_54 (LSTM)               (None, 7, 37)             10212     \n",
      "_________________________________________________________________\n",
      "lstm_55 (LSTM)               (None, 41)                12956     \n",
      "_________________________________________________________________\n",
      "dense_29 (Dense)             (None, 17)                714       \n",
      "=================================================================\n",
      "Total params: 29,214.0\n",
      "Trainable params: 29,214\n",
      "Non-trainable params: 0.0\n",
      "_________________________________________________________________\n",
      "None\n"
     ]
    }
   ],
   "source": [
    "print(model.summary())\n",
    "\n",
    "assert ((data_dim + 14) * 4 + 72) * 31 == 5332\n",
    "assert ((37 + 14) * 4 + 72) * 37 == 10212\n",
    "assert ((37 + 24) * 4 + 72) * 41 == 12956\n",
    "assert 17 * (41 + 1) == 714"
   ]
  },
  {
   "cell_type": "markdown",
   "metadata": {},
   "source": [
    "### Same stacked LSTM model, rendered \"stateful\""
   ]
  },
  {
   "cell_type": "code",
   "execution_count": 98,
   "metadata": {
    "collapsed": true
   },
   "outputs": [],
   "source": [
    "data_dim = 11\n",
    "timesteps = 7\n",
    "batch_size = 47\n",
    "\n",
    "# expected input data shape: (batch_size, timesteps, data_dim)\n",
    "model = Sequential()\n",
    "model.add(\n",
    "    LSTM(\n",
    "        31,\n",
    "        return_sequences=True,\n",
    "        stateful=True,\n",
    "        batch_input_shape=(batch_size, timesteps, data_dim\n",
    "                           )))  # returns a sequence of vectors of dimension 31\n",
    "model.add(LSTM(\n",
    "    37, return_sequences=True,\n",
    "    stateful=True))  # returns a sequence of vectors of dimension 37\n",
    "model.add(LSTM(41, stateful=True))  # return a single vector of dimension 41\n",
    "model.add(Dense(17, activation='softmax'))"
   ]
  },
  {
   "cell_type": "code",
   "execution_count": 99,
   "metadata": {
    "collapsed": true
   },
   "outputs": [],
   "source": [
    "data_dim = 16\n",
    "timesteps = 8\n",
    "batch_size = 32\n",
    "\n",
    "# Expected input batch shape: (batch_size, timesteps, data_dim)\n",
    "# Note that we have to provide the full batch_input_shape since the network is stateful.\n",
    "# the sample of index i in batch k is the follow-up for the sample i in batch k-1.\n",
    "model = Sequential()\n",
    "model.add(\n",
    "    LSTM(\n",
    "        32,\n",
    "        return_sequences=True,\n",
    "        stateful=True,\n",
    "        batch_input_shape=(batch_size, timesteps, data_dim)))\n",
    "model.add(LSTM(32, return_sequences=True, stateful=True))\n",
    "model.add(LSTM(32, stateful=True))\n",
    "model.add(Dense(10, activation='softmax'))"
   ]
  },
  {
   "cell_type": "code",
   "execution_count": 100,
   "metadata": {
    "collapsed": false,
    "scrolled": true
   },
   "outputs": [
    {
     "name": "stdout",
     "output_type": "stream",
     "text": [
      "_________________________________________________________________\n",
      "Layer (type)                 Output Shape              Param #   \n",
      "=================================================================\n",
      "lstm_59 (LSTM)               (32, 8, 32)               6272      \n",
      "_________________________________________________________________\n",
      "lstm_60 (LSTM)               (32, 8, 32)               8320      \n",
      "_________________________________________________________________\n",
      "lstm_61 (LSTM)               (32, 32)                  8320      \n",
      "_________________________________________________________________\n",
      "dense_31 (Dense)             (32, 10)                  330       \n",
      "=================================================================\n",
      "Total params: 23,242.0\n",
      "Trainable params: 23,242\n",
      "Non-trainable params: 0.0\n",
      "_________________________________________________________________\n",
      "None\n"
     ]
    }
   ],
   "source": [
    "print(model.summary())"
   ]
  },
  {
   "cell_type": "markdown",
   "metadata": {},
   "source": [
    "Reference: \n",
    "- https://keras.io/getting-started/sequential-model-guide/"
   ]
  },
  {
   "cell_type": "code",
   "execution_count": null,
   "metadata": {
    "collapsed": true
   },
   "outputs": [],
   "source": []
  }
 ],
 "metadata": {
  "kernelspec": {
   "display_name": "Python 3",
   "language": "python",
   "name": "python3"
  },
  "language_info": {
   "codemirror_mode": {
    "name": "ipython",
    "version": 3
   },
   "file_extension": ".py",
   "mimetype": "text/x-python",
   "name": "python",
   "nbconvert_exporter": "python",
   "pygments_lexer": "ipython3",
   "version": "3.6.0"
  },
  "toc": {
   "colors": {
    "hover_highlight": "#DAA520",
    "running_highlight": "#FF0000",
    "selected_highlight": "#FFD700"
   },
   "moveMenuLeft": true,
   "nav_menu": {
    "height": "101px",
    "width": "251px"
   },
   "navigate_menu": true,
   "number_sections": true,
   "sideBar": true,
   "threshold": 4,
   "toc_cell": false,
   "toc_position": {
    "height": "394px",
    "left": "0px",
    "right": "866.8px",
    "top": "107px",
    "width": "158px"
   },
   "toc_section_display": "block",
   "toc_window_display": true,
   "widenNotebook": false
  }
 },
 "nbformat": 4,
 "nbformat_minor": 2
}
