{
 "cells": [
  {
   "cell_type": "markdown",
   "metadata": {},
   "source": [
    "Demo to verify the number of paramters of layers in Keras models."
   ]
  },
  {
   "cell_type": "code",
   "execution_count": 47,
   "metadata": {
    "collapsed": false
   },
   "outputs": [],
   "source": [
    "from keras.models import Sequential\n",
    "from keras.layers import Dense, Dropout, Activation, Flatten\n",
    "from keras.layers import Conv2D, MaxPooling2D\n",
    "from keras.layers import Embedding\n",
    "from keras.layers import LSTM\n",
    "from keras.layers import Conv1D, GlobalAveragePooling1D, MaxPooling1D"
   ]
  },
  {
   "cell_type": "markdown",
   "metadata": {},
   "source": [
    "### Multilayer Perceptron (MLP) for multi-class softmax classification"
   ]
  },
  {
   "cell_type": "code",
   "execution_count": 48,
   "metadata": {
    "collapsed": true
   },
   "outputs": [],
   "source": [
    "model = Sequential()\n",
    "# Dense(64) is a fully-connected layer with 64 hidden units.\n",
    "# in the first layer, you must specify the expected input data shape:\n",
    "# here, 20-dimensional vectors.\n",
    "model.add(Dense(7, activation='relu', input_dim=20))\n",
    "model.add(Dropout(0.5))\n",
    "model.add(Dense(13, activation='relu'))\n",
    "model.add(Dropout(0.5))\n",
    "model.add(Dense(23, activation='softmax'))"
   ]
  },
  {
   "cell_type": "code",
   "execution_count": 49,
   "metadata": {
    "collapsed": false,
    "scrolled": true
   },
   "outputs": [
    {
     "name": "stdout",
     "output_type": "stream",
     "text": [
      "_________________________________________________________________\n",
      "Layer (type)                 Output Shape              Param #   \n",
      "=================================================================\n",
      "dense_16 (Dense)             (None, 7)                 147       \n",
      "_________________________________________________________________\n",
      "dropout_12 (Dropout)         (None, 7)                 0         \n",
      "_________________________________________________________________\n",
      "dense_17 (Dense)             (None, 13)                104       \n",
      "_________________________________________________________________\n",
      "dropout_13 (Dropout)         (None, 13)                0         \n",
      "_________________________________________________________________\n",
      "dense_18 (Dense)             (None, 23)                322       \n",
      "=================================================================\n",
      "Total params: 573.0\n",
      "Trainable params: 573.0\n",
      "Non-trainable params: 0.0\n",
      "_________________________________________________________________\n",
      "None\n"
     ]
    }
   ],
   "source": [
    "print(model.summary())\n",
    "\n",
    "assert(7 * (20+1) == 147)\n",
    "assert(13 * (7+1) == 104)\n",
    "assert(23 * (13+1) == 322)"
   ]
  },
  {
   "cell_type": "markdown",
   "metadata": {},
   "source": [
    "### MLP for binary classification"
   ]
  },
  {
   "cell_type": "code",
   "execution_count": 51,
   "metadata": {
    "collapsed": true
   },
   "outputs": [],
   "source": [
    "model = Sequential()\n",
    "model.add(Dense(7, input_dim=20, activation='relu'))\n",
    "model.add(Dropout(0.5))\n",
    "model.add(Dense(13, activation='relu'))\n",
    "model.add(Dropout(0.5))\n",
    "model.add(Dense(1, activation='sigmoid'))"
   ]
  },
  {
   "cell_type": "code",
   "execution_count": 52,
   "metadata": {
    "collapsed": false,
    "scrolled": true
   },
   "outputs": [
    {
     "name": "stdout",
     "output_type": "stream",
     "text": [
      "_________________________________________________________________\n",
      "Layer (type)                 Output Shape              Param #   \n",
      "=================================================================\n",
      "dense_19 (Dense)             (None, 7)                 147       \n",
      "_________________________________________________________________\n",
      "dropout_14 (Dropout)         (None, 7)                 0         \n",
      "_________________________________________________________________\n",
      "dense_20 (Dense)             (None, 13)                104       \n",
      "_________________________________________________________________\n",
      "dropout_15 (Dropout)         (None, 13)                0         \n",
      "_________________________________________________________________\n",
      "dense_21 (Dense)             (None, 1)                 14        \n",
      "=================================================================\n",
      "Total params: 265.0\n",
      "Trainable params: 265.0\n",
      "Non-trainable params: 0.0\n",
      "_________________________________________________________________\n",
      "None\n"
     ]
    }
   ],
   "source": [
    "print(model.summary())\n",
    "\n",
    "assert(7 * (20+1) == 147)\n",
    "assert(13 * (7+1) == 104)\n",
    "assert(1 * (13+1) == 14)"
   ]
  },
  {
   "cell_type": "markdown",
   "metadata": {},
   "source": [
    "### VGG-like convnet"
   ]
  },
  {
   "cell_type": "code",
   "execution_count": 94,
   "metadata": {
    "collapsed": true
   },
   "outputs": [],
   "source": [
    "model = Sequential()\n",
    "# input: 100x100 images with 3 channels -> (100, 100, 3) tensors.\n",
    "# this applies 23 convolution filters of size 3x3 each.\n",
    "model.add(Conv2D(7, (3, 3), activation='relu', input_shape=(100, 100, 3)))\n",
    "model.add(Conv2D(13, (3, 3), activation='relu'))\n",
    "model.add(MaxPooling2D(pool_size=(2, 2)))\n",
    "model.add(Dropout(0.25))\n",
    "\n",
    "model.add(Conv2D(17, (3, 3), activation='relu'))\n",
    "model.add(Conv2D(19, (3, 3), activation='relu'))\n",
    "model.add(MaxPooling2D(pool_size=(2, 2)))\n",
    "model.add(Dropout(0.25))\n",
    "\n",
    "model.add(Flatten())\n",
    "model.add(Dense(23, activation='relu'))\n",
    "model.add(Dropout(0.5))\n",
    "model.add(Dense(29, activation='softmax'))"
   ]
  },
  {
   "cell_type": "code",
   "execution_count": 93,
   "metadata": {
    "collapsed": false,
    "scrolled": false
   },
   "outputs": [
    {
     "name": "stdout",
     "output_type": "stream",
     "text": [
      "_________________________________________________________________\n",
      "Layer (type)                 Output Shape              Param #   \n",
      "=================================================================\n",
      "conv2d_13 (Conv2D)           (None, 998, 998, 7)       196       \n",
      "_________________________________________________________________\n",
      "conv2d_14 (Conv2D)           (None, 996, 996, 13)      832       \n",
      "_________________________________________________________________\n",
      "max_pooling2d_7 (MaxPooling2 (None, 498, 498, 13)      0         \n",
      "_________________________________________________________________\n",
      "dropout_29 (Dropout)         (None, 498, 498, 13)      0         \n",
      "_________________________________________________________________\n",
      "conv2d_15 (Conv2D)           (None, 496, 496, 17)      2006      \n",
      "_________________________________________________________________\n",
      "conv2d_16 (Conv2D)           (None, 494, 494, 19)      2926      \n",
      "_________________________________________________________________\n",
      "max_pooling2d_8 (MaxPooling2 (None, 247, 247, 19)      0         \n",
      "_________________________________________________________________\n",
      "dropout_30 (Dropout)         (None, 247, 247, 19)      0         \n",
      "_________________________________________________________________\n",
      "flatten_4 (Flatten)          (None, 1159171)           0         \n",
      "_________________________________________________________________\n",
      "dense_32 (Dense)             (None, 23)                26660956  \n",
      "_________________________________________________________________\n",
      "dropout_31 (Dropout)         (None, 23)                0         \n",
      "_________________________________________________________________\n",
      "dense_33 (Dense)             (None, 29)                696       \n",
      "=================================================================\n",
      "Total params: 26,667,612.0\n",
      "Trainable params: 26,667,612.0\n",
      "Non-trainable params: 0.0\n",
      "_________________________________________________________________\n",
      "None\n"
     ]
    }
   ],
   "source": [
    "print(model.summary())\n",
    "\n",
    "assert(7 * (3 * (3*3) + 1) == 196)\n",
    "assert(13 * (7 * (3*3) + 1) == 832)\n",
    "assert(17 * (13 * (3*3) + 1) == 2006)\n",
    "assert(19 * (17 * (3*3) + 1) == 2926)\n",
    "assert(22 * 22 * 19 == 9196)\n",
    "assert(23 * (9196+1) == 211531)\n",
    "assert(29 * (23+1) == 696)"
   ]
  },
  {
   "cell_type": "markdown",
   "metadata": {},
   "source": [
    "### Sequence classification with LSTM"
   ]
  },
  {
   "cell_type": "code",
   "execution_count": 69,
   "metadata": {
    "collapsed": false
   },
   "outputs": [],
   "source": [
    "max_features = 7\n",
    "model = Sequential()\n",
    "model.add(Embedding(max_features, output_dim=13))\n",
    "model.add(LSTM(17))\n",
    "model.add(Dropout(0.5))\n",
    "model.add(Dense(1, activation='sigmoid'))"
   ]
  },
  {
   "cell_type": "code",
   "execution_count": 70,
   "metadata": {
    "collapsed": false,
    "scrolled": true
   },
   "outputs": [
    {
     "name": "stdout",
     "output_type": "stream",
     "text": [
      "_________________________________________________________________\n",
      "Layer (type)                 Output Shape              Param #   \n",
      "=================================================================\n",
      "embedding_5 (Embedding)      (None, None, 13)          91        \n",
      "_________________________________________________________________\n",
      "lstm_5 (LSTM)                (None, 17)                2108      \n",
      "_________________________________________________________________\n",
      "dropout_26 (Dropout)         (None, 17)                0         \n",
      "_________________________________________________________________\n",
      "dense_29 (Dense)             (None, 1)                 18        \n",
      "=================================================================\n",
      "Total params: 2,217.0\n",
      "Trainable params: 2,217.0\n",
      "Non-trainable params: 0.0\n",
      "_________________________________________________________________\n",
      "None\n"
     ]
    }
   ],
   "source": [
    "print(model.summary())\n",
    "\n",
    "assert(13 * 7 == 91)\n",
    "print(2108/17, 'then?')\n",
    "assert(1 * (17+1) == 18)"
   ]
  },
  {
   "cell_type": "markdown",
   "metadata": {},
   "source": [
    "### Sequence classification with 1D convolutions"
   ]
  },
  {
   "cell_type": "code",
   "execution_count": 121,
   "metadata": {
    "collapsed": true
   },
   "outputs": [],
   "source": [
    "seq_length = 70\n",
    "model = Sequential()\n",
    "model.add(Conv1D(13, 5, activation='relu', input_shape=(seq_length, 103)))\n",
    "model.add(Conv1D(17, 4, activation='relu'))\n",
    "model.add(MaxPooling1D(3))\n",
    "model.add(Conv1D(19, 7, activation='relu'))\n",
    "model.add(Conv1D(23, 6, activation='relu'))\n",
    "model.add(GlobalAveragePooling1D())\n",
    "model.add(Dropout(0.5))\n",
    "model.add(Dense(1, activation='sigmoid'))"
   ]
  },
  {
   "cell_type": "code",
   "execution_count": 125,
   "metadata": {
    "collapsed": false
   },
   "outputs": [
    {
     "data": {
      "text/plain": [
       "516.0"
      ]
     },
     "execution_count": 125,
     "metadata": {},
     "output_type": "execute_result"
    }
   ],
   "source": [
    "6708/13"
   ]
  },
  {
   "cell_type": "code",
   "execution_count": 126,
   "metadata": {
    "collapsed": false,
    "scrolled": true
   },
   "outputs": [
    {
     "data": {
      "text/plain": [
       "5.0"
      ]
     },
     "execution_count": 126,
     "metadata": {},
     "output_type": "execute_result"
    }
   ],
   "source": [
    "(516-1)/103"
   ]
  },
  {
   "cell_type": "code",
   "execution_count": 136,
   "metadata": {
    "collapsed": false,
    "scrolled": false
   },
   "outputs": [
    {
     "name": "stdout",
     "output_type": "stream",
     "text": [
      "_________________________________________________________________\n",
      "Layer (type)                 Output Shape              Param #   \n",
      "=================================================================\n",
      "conv1d_32 (Conv1D)           (None, 66, 13)            6708      \n",
      "_________________________________________________________________\n",
      "conv1d_33 (Conv1D)           (None, 63, 17)            901       \n",
      "_________________________________________________________________\n",
      "max_pooling1d_9 (MaxPooling1 (None, 21, 17)            0         \n",
      "_________________________________________________________________\n",
      "conv1d_34 (Conv1D)           (None, 15, 19)            2280      \n",
      "_________________________________________________________________\n",
      "conv1d_35 (Conv1D)           (None, 10, 23)            2645      \n",
      "_________________________________________________________________\n",
      "global_average_pooling1d_8 ( (None, 23)                0         \n",
      "_________________________________________________________________\n",
      "dropout_40 (Dropout)         (None, 23)                0         \n",
      "_________________________________________________________________\n",
      "dense_41 (Dense)             (None, 1)                 24        \n",
      "=================================================================\n",
      "Total params: 12,558.0\n",
      "Trainable params: 12,558.0\n",
      "Non-trainable params: 0.0\n",
      "_________________________________________________________________\n",
      "None\n"
     ]
    }
   ],
   "source": [
    "print(model.summary())\n",
    "assert(13 * (5*103 + 1) == 6708)\n",
    "assert(17 * (4*13 + 1) == 901)\n",
    "assert(63/3 == 21)\n",
    "assert(19 * (7*17 + 1) == 2280)\n",
    "assert(23 * (6*19 + 1) == 2645)\n",
    "assert(1 * (23 + 1) == 24)"
   ]
  },
  {
   "cell_type": "code",
   "execution_count": null,
   "metadata": {
    "collapsed": true
   },
   "outputs": [],
   "source": []
  },
  {
   "cell_type": "markdown",
   "metadata": {},
   "source": [
    "Reference: \n",
    "- https://keras.io/getting-started/sequential-model-guide/"
   ]
  },
  {
   "cell_type": "code",
   "execution_count": null,
   "metadata": {
    "collapsed": true
   },
   "outputs": [],
   "source": []
  }
 ],
 "metadata": {
  "kernelspec": {
   "display_name": "Python 3",
   "language": "python",
   "name": "python3"
  },
  "language_info": {
   "codemirror_mode": {
    "name": "ipython",
    "version": 3
   },
   "file_extension": ".py",
   "mimetype": "text/x-python",
   "name": "python",
   "nbconvert_exporter": "python",
   "pygments_lexer": "ipython3",
   "version": "3.6.0"
  },
  "toc": {
   "colors": {
    "hover_highlight": "#DAA520",
    "running_highlight": "#FF0000",
    "selected_highlight": "#FFD700"
   },
   "moveMenuLeft": true,
   "nav_menu": {
    "height": "101px",
    "width": "251px"
   },
   "navigate_menu": true,
   "number_sections": true,
   "sideBar": true,
   "threshold": 4,
   "toc_cell": false,
   "toc_section_display": "block",
   "toc_window_display": true,
   "widenNotebook": false
  }
 },
 "nbformat": 4,
 "nbformat_minor": 2
}
