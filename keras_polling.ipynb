{
 "cells": [
  {
   "cell_type": "code",
   "execution_count": 12,
   "metadata": {
    "collapsed": true
   },
   "outputs": [],
   "source": [
    "from keras.models import Sequential\n",
    "from keras.layers import MaxPooling2D, AveragePooling2D, GlobalAveragePooling2D\n",
    "\n",
    "import numpy as np"
   ]
  },
  {
   "cell_type": "code",
   "execution_count": 25,
   "metadata": {
    "collapsed": true
   },
   "outputs": [],
   "source": [
    "x = np.random.rand(10, 4, 4, 3)"
   ]
  },
  {
   "cell_type": "markdown",
   "metadata": {},
   "source": [
    "### MaxPooling2D"
   ]
  },
  {
   "cell_type": "code",
   "execution_count": 27,
   "metadata": {},
   "outputs": [],
   "source": [
    "model = Sequential()\n",
    "\n",
    "model.add(MaxPooling2D(input_shape=(4, 4, 3)))\n",
    "model.compile('sgd', 'mse')\n",
    "\n",
    "output = model.predict(x)"
   ]
  },
  {
   "cell_type": "code",
   "execution_count": 42,
   "metadata": {},
   "outputs": [
    {
     "data": {
      "text/plain": [
       "array([[[ 0.7131479 ,  0.54648617,  0.5587671 ],\n",
       "        [ 0.4231695 ,  0.06733941,  0.86976756],\n",
       "        [ 0.75475609,  0.90357869,  0.25310977],\n",
       "        [ 0.16593823,  0.51138933,  0.66381801]],\n",
       "\n",
       "       [[ 0.52620158,  0.17835687,  0.74635478],\n",
       "        [ 0.22854962,  0.75937828,  0.19444075],\n",
       "        [ 0.75803572,  0.01176812,  0.81318218],\n",
       "        [ 0.98972995,  0.43918738,  0.5058682 ]],\n",
       "\n",
       "       [[ 0.32183132,  0.33339509,  0.29221678],\n",
       "        [ 0.76180066,  0.36942357,  0.25143348],\n",
       "        [ 0.34437175,  0.88304112,  0.62387067],\n",
       "        [ 0.21221789,  0.75720074,  0.32035747]],\n",
       "\n",
       "       [[ 0.64755367,  0.84881341,  0.82009588],\n",
       "        [ 0.71288358,  0.93159237,  0.76630719],\n",
       "        [ 0.89893866,  0.32926067,  0.15208268],\n",
       "        [ 0.3518587 ,  0.67382802,  0.73642239]]])"
      ]
     },
     "execution_count": 42,
     "metadata": {},
     "output_type": "execute_result"
    }
   ],
   "source": [
    "x[0]"
   ]
  },
  {
   "cell_type": "code",
   "execution_count": 43,
   "metadata": {},
   "outputs": [
    {
     "data": {
      "text/plain": [
       "array([[ 0.7131479 ,  0.4231695 ,  0.75475609,  0.16593823],\n",
       "       [ 0.52620158,  0.22854962,  0.75803572,  0.98972995],\n",
       "       [ 0.32183132,  0.76180066,  0.34437175,  0.21221789],\n",
       "       [ 0.64755367,  0.71288358,  0.89893866,  0.3518587 ]])"
      ]
     },
     "execution_count": 43,
     "metadata": {},
     "output_type": "execute_result"
    }
   ],
   "source": [
    "x[0][:,:,0]"
   ]
  },
  {
   "cell_type": "code",
   "execution_count": 44,
   "metadata": {
    "scrolled": false
   },
   "outputs": [
    {
     "data": {
      "text/plain": [
       "array([[[ 0.71314788,  0.75937825,  0.86976755],\n",
       "        [ 0.98972994,  0.9035787 ,  0.81318218]],\n",
       "\n",
       "       [[ 0.76180065,  0.93159235,  0.8200959 ],\n",
       "        [ 0.89893866,  0.88304114,  0.73642242]]], dtype=float32)"
      ]
     },
     "execution_count": 44,
     "metadata": {},
     "output_type": "execute_result"
    }
   ],
   "source": [
    "output[0]"
   ]
  },
  {
   "cell_type": "markdown",
   "metadata": {},
   "source": [
    "### AveragePooling2D"
   ]
  },
  {
   "cell_type": "code",
   "execution_count": 66,
   "metadata": {
    "collapsed": true
   },
   "outputs": [],
   "source": [
    "model = Sequential()\n",
    "\n",
    "model.add(AveragePooling2D(input_shape=(4, 4, 3)))\n",
    "model.compile('sgd', 'mse')\n",
    "\n",
    "output = model.predict(x)"
   ]
  },
  {
   "cell_type": "code",
   "execution_count": 46,
   "metadata": {},
   "outputs": [
    {
     "data": {
      "text/plain": [
       "array([[[ 0.7131479 ,  0.54648617,  0.5587671 ],\n",
       "        [ 0.4231695 ,  0.06733941,  0.86976756],\n",
       "        [ 0.75475609,  0.90357869,  0.25310977],\n",
       "        [ 0.16593823,  0.51138933,  0.66381801]],\n",
       "\n",
       "       [[ 0.52620158,  0.17835687,  0.74635478],\n",
       "        [ 0.22854962,  0.75937828,  0.19444075],\n",
       "        [ 0.75803572,  0.01176812,  0.81318218],\n",
       "        [ 0.98972995,  0.43918738,  0.5058682 ]],\n",
       "\n",
       "       [[ 0.32183132,  0.33339509,  0.29221678],\n",
       "        [ 0.76180066,  0.36942357,  0.25143348],\n",
       "        [ 0.34437175,  0.88304112,  0.62387067],\n",
       "        [ 0.21221789,  0.75720074,  0.32035747]],\n",
       "\n",
       "       [[ 0.64755367,  0.84881341,  0.82009588],\n",
       "        [ 0.71288358,  0.93159237,  0.76630719],\n",
       "        [ 0.89893866,  0.32926067,  0.15208268],\n",
       "        [ 0.3518587 ,  0.67382802,  0.73642239]]])"
      ]
     },
     "execution_count": 46,
     "metadata": {},
     "output_type": "execute_result"
    }
   ],
   "source": [
    "x[0]"
   ]
  },
  {
   "cell_type": "code",
   "execution_count": 47,
   "metadata": {},
   "outputs": [
    {
     "data": {
      "text/plain": [
       "array([[ 0.7131479 ,  0.4231695 ,  0.75475609,  0.16593823],\n",
       "       [ 0.52620158,  0.22854962,  0.75803572,  0.98972995],\n",
       "       [ 0.32183132,  0.76180066,  0.34437175,  0.21221789],\n",
       "       [ 0.64755367,  0.71288358,  0.89893866,  0.3518587 ]])"
      ]
     },
     "execution_count": 47,
     "metadata": {},
     "output_type": "execute_result"
    }
   ],
   "source": [
    "x[0][:,:,0]"
   ]
  },
  {
   "cell_type": "code",
   "execution_count": 60,
   "metadata": {},
   "outputs": [
    {
     "data": {
      "text/plain": [
       "(10, 2, 2, 3)"
      ]
     },
     "execution_count": 60,
     "metadata": {},
     "output_type": "execute_result"
    }
   ],
   "source": [
    "output.shape"
   ]
  },
  {
   "cell_type": "code",
   "execution_count": 61,
   "metadata": {
    "scrolled": false
   },
   "outputs": [
    {
     "data": {
      "text/plain": [
       "array([[ 0.47276714,  0.66711497],\n",
       "       [ 0.61101735,  0.45184675]], dtype=float32)"
      ]
     },
     "execution_count": 61,
     "metadata": {},
     "output_type": "execute_result"
    }
   ],
   "source": [
    "output[0][:,:,0]"
   ]
  },
  {
   "cell_type": "code",
   "execution_count": 63,
   "metadata": {
    "scrolled": true
   },
   "outputs": [
    {
     "data": {
      "text/plain": [
       "(array([[ 0.7131479 ,  0.4231695 ],\n",
       "        [ 0.52620158,  0.22854962]]), 0.47276715194456731, 0.47276714)"
      ]
     },
     "execution_count": 63,
     "metadata": {},
     "output_type": "execute_result"
    }
   ],
   "source": [
    "x[0][:,:,0][:2, :2], np.mean(x[0][:,:,0][:2, :2]), output[0][:,:,0][0][0]"
   ]
  },
  {
   "cell_type": "code",
   "execution_count": 65,
   "metadata": {
    "scrolled": true
   },
   "outputs": [
    {
     "data": {
      "text/plain": [
       "(array([[ 0.4231695 ,  0.75475609],\n",
       "        [ 0.22854962,  0.75803572]]), 0.66711499689166953, 0.66711497)"
      ]
     },
     "execution_count": 65,
     "metadata": {},
     "output_type": "execute_result"
    }
   ],
   "source": [
    "x[0][:,:,0][:2, 1:3], np.mean(x[0][:,:,0][:2, 2:4]), output[0][:,:,0][0][1]"
   ]
  },
  {
   "cell_type": "markdown",
   "metadata": {},
   "source": [
    "### GlobalAveragePooling2D"
   ]
  },
  {
   "cell_type": "code",
   "execution_count": 67,
   "metadata": {
    "collapsed": true
   },
   "outputs": [],
   "source": [
    "model = Sequential()\n",
    "\n",
    "model.add(GlobalAveragePooling2D(input_shape=(4, 4, 3)))\n",
    "model.compile('sgd', 'mse')\n",
    "\n",
    "output = model.predict(x)"
   ]
  },
  {
   "cell_type": "code",
   "execution_count": 68,
   "metadata": {
    "scrolled": true
   },
   "outputs": [
    {
     "data": {
      "text/plain": [
       "(10, 3)"
      ]
     },
     "execution_count": 68,
     "metadata": {},
     "output_type": "execute_result"
    }
   ],
   "source": [
    "output.shape"
   ]
  },
  {
   "cell_type": "code",
   "execution_count": 76,
   "metadata": {},
   "outputs": [
    {
     "data": {
      "text/plain": [
       "(0.55068655219486695, 0.5506866)"
      ]
     },
     "execution_count": 76,
     "metadata": {},
     "output_type": "execute_result"
    }
   ],
   "source": [
    "np.mean(x[0][:,:,0]), output[0][0]"
   ]
  },
  {
   "cell_type": "code",
   "execution_count": 75,
   "metadata": {},
   "outputs": [
    {
     "data": {
      "text/plain": [
       "(0.53400245343292485, 0.53400242)"
      ]
     },
     "execution_count": 75,
     "metadata": {},
     "output_type": "execute_result"
    }
   ],
   "source": [
    "np.mean(x[0][:,:,1]), output[0][1]"
   ]
  },
  {
   "cell_type": "code",
   "execution_count": 77,
   "metadata": {},
   "outputs": [
    {
     "data": {
      "text/plain": [
       "(0.5355059324928142, 0.53550595)"
      ]
     },
     "execution_count": 77,
     "metadata": {},
     "output_type": "execute_result"
    }
   ],
   "source": [
    "np.mean(x[0][:,:,2]), output[0][2]"
   ]
  },
  {
   "cell_type": "code",
   "execution_count": null,
   "metadata": {
    "collapsed": true
   },
   "outputs": [],
   "source": []
  }
 ],
 "metadata": {
  "kernelspec": {
   "display_name": "Python 3",
   "language": "python",
   "name": "python3"
  },
  "language_info": {
   "codemirror_mode": {
    "name": "ipython",
    "version": 3
   },
   "file_extension": ".py",
   "mimetype": "text/x-python",
   "name": "python",
   "nbconvert_exporter": "python",
   "pygments_lexer": "ipython3",
   "version": "3.6.1"
  },
  "toc": {
   "nav_menu": {},
   "number_sections": true,
   "sideBar": true,
   "skip_h1_title": false,
   "toc_cell": false,
   "toc_position": {},
   "toc_section_display": "block",
   "toc_window_display": false
  }
 },
 "nbformat": 4,
 "nbformat_minor": 2
}
