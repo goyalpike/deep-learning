{
 "cells": [
  {
   "cell_type": "code",
   "execution_count": 70,
   "metadata": {
    "collapsed": true,
    "scrolled": true
   },
   "outputs": [],
   "source": [
    "%matplotlib inline\n",
    "import matplotlib.pyplot as plt\n",
    "import pandas as pd\n",
    "import numpy as np\n",
    "import keras\n",
    "import sklearn\n",
    "import sklearn.preprocessing\n",
    "import sklearn.metrics"
   ]
  },
  {
   "cell_type": "code",
   "execution_count": 37,
   "metadata": {
    "collapsed": true
   },
   "outputs": [],
   "source": [
    "url = 'https://raw.githubusercontent.com/blue-yonder/pydse/master/pydse/data/international-airline-passengers.csv'\n",
    "data = pd.read_csv(url, sep=';')"
   ]
  },
  {
   "cell_type": "code",
   "execution_count": 38,
   "metadata": {
    "scrolled": true
   },
   "outputs": [
    {
     "data": {
      "text/html": [
       "<div>\n",
       "<style>\n",
       "    .dataframe thead tr:only-child th {\n",
       "        text-align: right;\n",
       "    }\n",
       "\n",
       "    .dataframe thead th {\n",
       "        text-align: left;\n",
       "    }\n",
       "\n",
       "    .dataframe tbody tr th {\n",
       "        vertical-align: top;\n",
       "    }\n",
       "</style>\n",
       "<table border=\"1\" class=\"dataframe\">\n",
       "  <thead>\n",
       "    <tr style=\"text-align: right;\">\n",
       "      <th></th>\n",
       "      <th>Month</th>\n",
       "      <th>Passengers</th>\n",
       "    </tr>\n",
       "  </thead>\n",
       "  <tbody>\n",
       "    <tr>\n",
       "      <th>0</th>\n",
       "      <td>1949-01</td>\n",
       "      <td>112</td>\n",
       "    </tr>\n",
       "    <tr>\n",
       "      <th>1</th>\n",
       "      <td>1949-02</td>\n",
       "      <td>118</td>\n",
       "    </tr>\n",
       "    <tr>\n",
       "      <th>2</th>\n",
       "      <td>1949-03</td>\n",
       "      <td>132</td>\n",
       "    </tr>\n",
       "    <tr>\n",
       "      <th>3</th>\n",
       "      <td>1949-04</td>\n",
       "      <td>129</td>\n",
       "    </tr>\n",
       "    <tr>\n",
       "      <th>4</th>\n",
       "      <td>1949-05</td>\n",
       "      <td>121</td>\n",
       "    </tr>\n",
       "  </tbody>\n",
       "</table>\n",
       "</div>"
      ],
      "text/plain": [
       "     Month  Passengers\n",
       "0  1949-01         112\n",
       "1  1949-02         118\n",
       "2  1949-03         132\n",
       "3  1949-04         129\n",
       "4  1949-05         121"
      ]
     },
     "execution_count": 38,
     "metadata": {},
     "output_type": "execute_result"
    }
   ],
   "source": [
    "data.head()"
   ]
  },
  {
   "cell_type": "code",
   "execution_count": 46,
   "metadata": {
    "scrolled": false
   },
   "outputs": [
    {
     "data": {
      "text/plain": [
       "[<matplotlib.lines.Line2D at 0x7f4260f96a58>]"
      ]
     },
     "execution_count": 46,
     "metadata": {},
     "output_type": "execute_result"
    },
    {
     "data": {
      "image/png": "[encoded data removed]",
      "text/plain": [
       "<matplotlib.figure.Figure at 0x7f4261012dd8>"
      ]
     },
     "metadata": {},
     "output_type": "display_data"
    }
   ],
   "source": [
    "plt.plot(data.Passengers)"
   ]
  },
  {
   "cell_type": "code",
   "execution_count": 40,
   "metadata": {
    "collapsed": true
   },
   "outputs": [],
   "source": [
    "np.random.seed(7)"
   ]
  },
  {
   "cell_type": "code",
   "execution_count": 41,
   "metadata": {
    "collapsed": true
   },
   "outputs": [],
   "source": [
    "ts = data.iloc[:, 1].astype('float').values.reshape(-1, 1)"
   ]
  },
  {
   "cell_type": "code",
   "execution_count": 42,
   "metadata": {
    "scrolled": true
   },
   "outputs": [
    {
     "data": {
      "text/plain": [
       "(144, 1)"
      ]
     },
     "execution_count": 42,
     "metadata": {},
     "output_type": "execute_result"
    }
   ],
   "source": [
    "ts.shape"
   ]
  },
  {
   "cell_type": "code",
   "execution_count": 43,
   "metadata": {
    "collapsed": true
   },
   "outputs": [],
   "source": [
    "scaler = sklearn.preprocessing.MinMaxScaler(feature_range=(0, 1))\n",
    "ts = scaler.fit_transform(ts)"
   ]
  },
  {
   "cell_type": "code",
   "execution_count": 47,
   "metadata": {},
   "outputs": [
    {
     "data": {
      "text/plain": [
       "[<matplotlib.lines.Line2D at 0x7f4260f2f550>]"
      ]
     },
     "execution_count": 47,
     "metadata": {},
     "output_type": "execute_result"
    },
    {
     "data": {
      "image/png": "[encoded data removed]",
      "text/plain": [
       "<matplotlib.figure.Figure at 0x7f4260f3a2b0>"
      ]
     },
     "metadata": {},
     "output_type": "display_data"
    }
   ],
   "source": [
    "plt.plot(ts)"
   ]
  },
  {
   "cell_type": "code",
   "execution_count": 52,
   "metadata": {
    "collapsed": true
   },
   "outputs": [],
   "source": [
    "train_size = int(len(ts) * 0.67)"
   ]
  },
  {
   "cell_type": "code",
   "execution_count": 53,
   "metadata": {
    "collapsed": true
   },
   "outputs": [],
   "source": [
    "ts_train = ts[:train_size]\n",
    "ts_test = ts[train_size:]"
   ]
  },
  {
   "cell_type": "code",
   "execution_count": 54,
   "metadata": {
    "scrolled": true
   },
   "outputs": [
    {
     "data": {
      "text/plain": [
       "(96, 1)"
      ]
     },
     "execution_count": 54,
     "metadata": {},
     "output_type": "execute_result"
    }
   ],
   "source": [
    "ts_train.shape"
   ]
  },
  {
   "cell_type": "code",
   "execution_count": 55,
   "metadata": {},
   "outputs": [
    {
     "data": {
      "text/plain": [
       "(48, 1)"
      ]
     },
     "execution_count": 55,
     "metadata": {},
     "output_type": "execute_result"
    }
   ],
   "source": [
    "ts_test.shape"
   ]
  },
  {
   "cell_type": "code",
   "execution_count": 56,
   "metadata": {
    "collapsed": true
   },
   "outputs": [],
   "source": [
    "look_back=1\n",
    "def make_xy(ts):\n",
    "    Y = ts[look_back:]\n",
    "    X = ts[:-look_back]\n",
    "    return X, Y"
   ]
  },
  {
   "cell_type": "code",
   "execution_count": 83,
   "metadata": {
    "collapsed": true
   },
   "outputs": [],
   "source": [
    "X_train, Y_train = make_xy(ts_train)\n",
    "X_test, Y_test = make_xy(ts_test)"
   ]
  },
  {
   "cell_type": "code",
   "execution_count": 84,
   "metadata": {
    "collapsed": true,
    "scrolled": true
   },
   "outputs": [],
   "source": [
    "X_train = X_train.reshape(X_train.shape[0], 1, 1)\n",
    "X_test = X_test.reshape(X_test.shape[0], 1, 1)"
   ]
  },
  {
   "cell_type": "code",
   "execution_count": 85,
   "metadata": {},
   "outputs": [
    {
     "data": {
      "text/plain": [
       "(95, 1, 1)"
      ]
     },
     "execution_count": 85,
     "metadata": {},
     "output_type": "execute_result"
    }
   ],
   "source": [
    "X_train.shape"
   ]
  },
  {
   "cell_type": "code",
   "execution_count": 86,
   "metadata": {
    "scrolled": true
   },
   "outputs": [
    {
     "data": {
      "text/plain": [
       "(95, 1)"
      ]
     },
     "execution_count": 86,
     "metadata": {},
     "output_type": "execute_result"
    }
   ],
   "source": [
    "Y_train.shape"
   ]
  },
  {
   "cell_type": "code",
   "execution_count": 61,
   "metadata": {
    "collapsed": true
   },
   "outputs": [],
   "source": [
    "model = keras.models.Sequential([\n",
    "    keras.layers.LSTM(4, input_shape=(1, look_back)),\n",
    "    keras.layers.Dense(1)\n",
    "])"
   ]
  },
  {
   "cell_type": "code",
   "execution_count": 62,
   "metadata": {
    "collapsed": true
   },
   "outputs": [],
   "source": [
    "model.compile(optimizer=keras.optimizers.Adam(), loss=keras.losses.mean_squared_error)"
   ]
  },
  {
   "cell_type": "code",
   "execution_count": 63,
   "metadata": {
    "collapsed": true
   },
   "outputs": [
    {
     "name": "stdout",
     "output_type": "stream",
     "text": [
      "Train on 95 samples, validate on 47 samples\n",
      "Epoch 1/100\n",
      "95/95 [==============================] - 2s 19ms/step - loss: 0.0406 - val_loss: 0.2212\n",
      "Epoch 2/100\n",
      "95/95 [==============================] - 0s 3ms/step - loss: 0.0199 - val_loss: 0.1526\n",
      "Epoch 3/100\n",
      "95/95 [==============================] - 0s 3ms/step - loss: 0.0147 - val_loss: 0.1246\n",
      "Epoch 4/100\n",
      "95/95 [==============================] - 0s 3ms/step - loss: 0.0130 - val_loss: 0.1090\n",
      "Epoch 5/100\n",
      "95/95 [==============================] - 0s 3ms/step - loss: 0.0120 - val_loss: 0.0966\n",
      "Epoch 6/100\n",
      "95/95 [==============================] - 0s 3ms/step - loss: 0.0111 - val_loss: 0.0835\n",
      "Epoch 7/100\n",
      "95/95 [==============================] - 0s 3ms/step - loss: 0.0101 - val_loss: 0.0753\n",
      "Epoch 8/100\n",
      "95/95 [==============================] - 0s 3ms/step - loss: 0.0090 - val_loss: 0.0690\n",
      "Epoch 9/100\n",
      "95/95 [==============================] - 0s 3ms/step - loss: 0.0079 - val_loss: 0.0564\n",
      "Epoch 10/100\n",
      "95/95 [==============================] - 0s 3ms/step - loss: 0.0069 - val_loss: 0.0472\n",
      "Epoch 11/100\n",
      "95/95 [==============================] - 0s 3ms/step - loss: 0.0060 - val_loss: 0.0388\n",
      "Epoch 12/100\n",
      "95/95 [==============================] - 0s 3ms/step - loss: 0.0051 - val_loss: 0.0355\n",
      "Epoch 13/100\n",
      "95/95 [==============================] - 0s 3ms/step - loss: 0.0044 - val_loss: 0.0247\n",
      "Epoch 14/100\n",
      "95/95 [==============================] - ETA: 0s - loss: 0.003 - 0s 3ms/step - loss: 0.0037 - val_loss: 0.0220\n",
      "Epoch 15/100\n",
      "95/95 [==============================] - 0s 3ms/step - loss: 0.0033 - val_loss: 0.0172\n",
      "Epoch 16/100\n",
      "95/95 [==============================] - 0s 3ms/step - loss: 0.0029 - val_loss: 0.0146\n",
      "Epoch 17/100\n",
      "95/95 [==============================] - 0s 3ms/step - loss: 0.0026 - val_loss: 0.0125\n",
      "Epoch 18/100\n",
      "95/95 [==============================] - 0s 3ms/step - loss: 0.0024 - val_loss: 0.0112\n",
      "Epoch 19/100\n",
      "95/95 [==============================] - 0s 3ms/step - loss: 0.0023 - val_loss: 0.0097\n",
      "Epoch 20/100\n",
      "95/95 [==============================] - 0s 3ms/step - loss: 0.0022 - val_loss: 0.0093\n",
      "Epoch 21/100\n",
      "95/95 [==============================] - 0s 3ms/step - loss: 0.0021 - val_loss: 0.0088\n",
      "Epoch 22/100\n",
      "95/95 [==============================] - 0s 3ms/step - loss: 0.0021 - val_loss: 0.0091\n",
      "Epoch 23/100\n",
      "95/95 [==============================] - 0s 3ms/step - loss: 0.0022 - val_loss: 0.0096\n",
      "Epoch 24/100\n",
      "95/95 [==============================] - 0s 3ms/step - loss: 0.0022 - val_loss: 0.0088\n",
      "Epoch 25/100\n",
      "95/95 [==============================] - 0s 3ms/step - loss: 0.0021 - val_loss: 0.0086\n",
      "Epoch 26/100\n",
      "95/95 [==============================] - 0s 3ms/step - loss: 0.0021 - val_loss: 0.0086\n",
      "Epoch 27/100\n",
      "95/95 [==============================] - 0s 3ms/step - loss: 0.0021 - val_loss: 0.0087\n",
      "Epoch 28/100\n",
      "95/95 [==============================] - 0s 3ms/step - loss: 0.0021 - val_loss: 0.0088\n",
      "Epoch 29/100\n",
      "95/95 [==============================] - 0s 3ms/step - loss: 0.0021 - val_loss: 0.0090\n",
      "Epoch 30/100\n",
      "95/95 [==============================] - 0s 3ms/step - loss: 0.0021 - val_loss: 0.0085\n",
      "Epoch 31/100\n",
      "95/95 [==============================] - 0s 3ms/step - loss: 0.0021 - val_loss: 0.0087\n",
      "Epoch 32/100\n",
      "95/95 [==============================] - 0s 3ms/step - loss: 0.0021 - val_loss: 0.0084\n",
      "Epoch 33/100\n",
      "95/95 [==============================] - 0s 3ms/step - loss: 0.0021 - val_loss: 0.0088\n",
      "Epoch 34/100\n",
      "95/95 [==============================] - 0s 3ms/step - loss: 0.0021 - val_loss: 0.0085\n",
      "Epoch 35/100\n",
      "95/95 [==============================] - 0s 3ms/step - loss: 0.0021 - val_loss: 0.0086\n",
      "Epoch 36/100\n",
      "95/95 [==============================] - 0s 3ms/step - loss: 0.0021 - val_loss: 0.0092\n",
      "Epoch 37/100\n",
      "95/95 [==============================] - 0s 3ms/step - loss: 0.0021 - val_loss: 0.0086\n",
      "Epoch 38/100\n",
      "95/95 [==============================] - 0s 3ms/step - loss: 0.0021 - val_loss: 0.0085\n",
      "Epoch 39/100\n",
      "95/95 [==============================] - 0s 3ms/step - loss: 0.0021 - val_loss: 0.0085\n",
      "Epoch 40/100\n",
      "95/95 [==============================] - 0s 3ms/step - loss: 0.0021 - val_loss: 0.0085\n",
      "Epoch 41/100\n",
      "95/95 [==============================] - 0s 3ms/step - loss: 0.0021 - val_loss: 0.0086\n",
      "Epoch 42/100\n",
      "95/95 [==============================] - 0s 3ms/step - loss: 0.0020 - val_loss: 0.0082\n",
      "Epoch 43/100\n",
      "95/95 [==============================] - 0s 3ms/step - loss: 0.0020 - val_loss: 0.0088\n",
      "Epoch 44/100\n",
      "95/95 [==============================] - 0s 3ms/step - loss: 0.0021 - val_loss: 0.0087\n",
      "Epoch 45/100\n",
      "95/95 [==============================] - 0s 3ms/step - loss: 0.0021 - val_loss: 0.0083\n",
      "Epoch 46/100\n",
      "95/95 [==============================] - 0s 3ms/step - loss: 0.0021 - val_loss: 0.0083\n",
      "Epoch 47/100\n",
      "95/95 [==============================] - 0s 3ms/step - loss: 0.0021 - val_loss: 0.0092\n",
      "Epoch 48/100\n",
      "95/95 [==============================] - 0s 3ms/step - loss: 0.0021 - val_loss: 0.0084\n",
      "Epoch 49/100\n",
      "95/95 [==============================] - 0s 3ms/step - loss: 0.0022 - val_loss: 0.0085\n",
      "Epoch 50/100\n",
      "95/95 [==============================] - 0s 3ms/step - loss: 0.0020 - val_loss: 0.0082\n",
      "Epoch 51/100\n",
      "95/95 [==============================] - 0s 3ms/step - loss: 0.0021 - val_loss: 0.0085\n",
      "Epoch 52/100\n",
      "95/95 [==============================] - 0s 3ms/step - loss: 0.0021 - val_loss: 0.0083\n",
      "Epoch 53/100\n",
      "95/95 [==============================] - 0s 3ms/step - loss: 0.0021 - val_loss: 0.0085\n",
      "Epoch 54/100\n",
      "95/95 [==============================] - 0s 3ms/step - loss: 0.0021 - val_loss: 0.0086\n",
      "Epoch 55/100\n",
      "95/95 [==============================] - 0s 3ms/step - loss: 0.0021 - val_loss: 0.0084\n",
      "Epoch 56/100\n",
      "95/95 [==============================] - 0s 3ms/step - loss: 0.0021 - val_loss: 0.0082\n",
      "Epoch 57/100\n",
      "95/95 [==============================] - 0s 3ms/step - loss: 0.0020 - val_loss: 0.0082\n",
      "Epoch 58/100\n",
      "95/95 [==============================] - 0s 3ms/step - loss: 0.0020 - val_loss: 0.0089\n",
      "Epoch 59/100\n",
      "95/95 [==============================] - 0s 3ms/step - loss: 0.0020 - val_loss: 0.0089\n",
      "Epoch 60/100\n",
      "95/95 [==============================] - 0s 3ms/step - loss: 0.0021 - val_loss: 0.0083\n",
      "Epoch 61/100\n",
      "95/95 [==============================] - 0s 3ms/step - loss: 0.0021 - val_loss: 0.0087\n",
      "Epoch 62/100\n",
      "95/95 [==============================] - 0s 3ms/step - loss: 0.0021 - val_loss: 0.0086\n",
      "Epoch 63/100\n",
      "95/95 [==============================] - 0s 3ms/step - loss: 0.0021 - val_loss: 0.0085\n",
      "Epoch 64/100\n",
      "95/95 [==============================] - 0s 3ms/step - loss: 0.0021 - val_loss: 0.0083\n",
      "Epoch 65/100\n",
      "95/95 [==============================] - 0s 3ms/step - loss: 0.0020 - val_loss: 0.0085\n",
      "Epoch 66/100\n",
      "95/95 [==============================] - 0s 3ms/step - loss: 0.0021 - val_loss: 0.0085\n",
      "Epoch 67/100\n",
      "95/95 [==============================] - 0s 3ms/step - loss: 0.0021 - val_loss: 0.0088\n",
      "Epoch 68/100\n",
      "95/95 [==============================] - 0s 3ms/step - loss: 0.0020 - val_loss: 0.0090\n",
      "Epoch 69/100\n",
      "95/95 [==============================] - 0s 3ms/step - loss: 0.0021 - val_loss: 0.0084\n",
      "Epoch 70/100\n",
      "95/95 [==============================] - 0s 3ms/step - loss: 0.0020 - val_loss: 0.0082\n",
      "Epoch 71/100\n",
      "95/95 [==============================] - 0s 3ms/step - loss: 0.0021 - val_loss: 0.0082\n",
      "Epoch 72/100\n",
      "95/95 [==============================] - 0s 3ms/step - loss: 0.0020 - val_loss: 0.0096\n",
      "Epoch 73/100\n",
      "95/95 [==============================] - 0s 3ms/step - loss: 0.0020 - val_loss: 0.0083\n",
      "Epoch 74/100\n",
      "95/95 [==============================] - 0s 3ms/step - loss: 0.0021 - val_loss: 0.0089\n",
      "Epoch 75/100\n",
      "95/95 [==============================] - 0s 3ms/step - loss: 0.0020 - val_loss: 0.0085\n",
      "Epoch 76/100\n",
      "95/95 [==============================] - 0s 3ms/step - loss: 0.0021 - val_loss: 0.0082\n",
      "Epoch 77/100\n",
      "95/95 [==============================] - 0s 3ms/step - loss: 0.0021 - val_loss: 0.0085\n",
      "Epoch 78/100\n",
      "95/95 [==============================] - 0s 3ms/step - loss: 0.0021 - val_loss: 0.0092\n",
      "Epoch 79/100\n",
      "95/95 [==============================] - 0s 3ms/step - loss: 0.0020 - val_loss: 0.0095\n",
      "Epoch 80/100\n",
      "95/95 [==============================] - 0s 3ms/step - loss: 0.0021 - val_loss: 0.0093\n",
      "Epoch 81/100\n",
      "95/95 [==============================] - 0s 3ms/step - loss: 0.0021 - val_loss: 0.0085\n",
      "Epoch 82/100\n",
      "95/95 [==============================] - 0s 3ms/step - loss: 0.0020 - val_loss: 0.0081\n",
      "Epoch 83/100\n",
      "95/95 [==============================] - 0s 3ms/step - loss: 0.0021 - val_loss: 0.0087\n",
      "Epoch 84/100\n",
      "95/95 [==============================] - 0s 3ms/step - loss: 0.0021 - val_loss: 0.0084\n",
      "Epoch 85/100\n",
      "95/95 [==============================] - 0s 3ms/step - loss: 0.0021 - val_loss: 0.0093\n",
      "Epoch 86/100\n",
      "95/95 [==============================] - 0s 3ms/step - loss: 0.0020 - val_loss: 0.0087\n",
      "Epoch 87/100\n",
      "95/95 [==============================] - 0s 3ms/step - loss: 0.0020 - val_loss: 0.0081\n",
      "Epoch 88/100\n",
      "95/95 [==============================] - 0s 3ms/step - loss: 0.0020 - val_loss: 0.0082\n",
      "Epoch 89/100\n",
      "95/95 [==============================] - 0s 3ms/step - loss: 0.0020 - val_loss: 0.0095\n",
      "Epoch 90/100\n",
      "95/95 [==============================] - 0s 3ms/step - loss: 0.0020 - val_loss: 0.0088\n",
      "Epoch 91/100\n",
      "95/95 [==============================] - 0s 3ms/step - loss: 0.0020 - val_loss: 0.0086\n",
      "Epoch 92/100\n",
      "95/95 [==============================] - 0s 3ms/step - loss: 0.0020 - val_loss: 0.0092\n",
      "Epoch 93/100\n",
      "95/95 [==============================] - 0s 3ms/step - loss: 0.0021 - val_loss: 0.0089\n",
      "Epoch 94/100\n",
      "95/95 [==============================] - 0s 3ms/step - loss: 0.0020 - val_loss: 0.0089\n",
      "Epoch 95/100\n",
      "95/95 [==============================] - 0s 3ms/step - loss: 0.0021 - val_loss: 0.0091\n",
      "Epoch 96/100\n",
      "95/95 [==============================] - 0s 3ms/step - loss: 0.0020 - val_loss: 0.0089\n",
      "Epoch 97/100\n",
      "95/95 [==============================] - 0s 3ms/step - loss: 0.0021 - val_loss: 0.0086\n",
      "Epoch 98/100\n",
      "95/95 [==============================] - 0s 3ms/step - loss: 0.0021 - val_loss: 0.0085\n",
      "Epoch 99/100\n",
      "95/95 [==============================] - 0s 3ms/step - loss: 0.0021 - val_loss: 0.0096\n",
      "Epoch 100/100\n",
      "95/95 [==============================] - 0s 3ms/step - loss: 0.0020 - val_loss: 0.0087\n"
     ]
    },
    {
     "data": {
      "text/plain": [
       "<keras.callbacks.History at 0x7f4260b616a0>"
      ]
     },
     "execution_count": 63,
     "metadata": {},
     "output_type": "execute_result"
    }
   ],
   "source": [
    "model.fit(X_train, Y_train, epochs=100, batch_size=1, validation_data=[X_test, Y_test])"
   ]
  },
  {
   "cell_type": "code",
   "execution_count": 64,
   "metadata": {
    "collapsed": true
   },
   "outputs": [],
   "source": [
    "pred_train = model.predict(X_train)\n",
    "pred_test = model.predict(X_test)"
   ]
  },
  {
   "cell_type": "code",
   "execution_count": 65,
   "metadata": {
    "collapsed": true
   },
   "outputs": [],
   "source": [
    "pred_train_original_scale = scaler.inverse_transform(pred_train)\n",
    "pred_test_original_scale = scaler.inverse_transform(pred_test)"
   ]
  },
  {
   "cell_type": "code",
   "execution_count": 66,
   "metadata": {
    "collapsed": true
   },
   "outputs": [],
   "source": [
    "Y_train_original_scale = scaler.inverse_transform(Y_train)\n",
    "Y_test_original_scale = scaler.inverse_transform(Y_test)"
   ]
  },
  {
   "cell_type": "code",
   "execution_count": 71,
   "metadata": {},
   "outputs": [
    {
     "data": {
      "text/plain": [
       "22.927175101435921"
      ]
     },
     "execution_count": 71,
     "metadata": {},
     "output_type": "execute_result"
    }
   ],
   "source": [
    "train_rmse = np.sqrt(sklearn.metrics.mean_squared_error(Y_train_original_scale, pred_train_original_scale))\n",
    "train_rmse"
   ]
  },
  {
   "cell_type": "code",
   "execution_count": 72,
   "metadata": {},
   "outputs": [
    {
     "data": {
      "text/plain": [
       "48.279758992641824"
      ]
     },
     "execution_count": 72,
     "metadata": {},
     "output_type": "execute_result"
    }
   ],
   "source": [
    "test_rmse = np.sqrt(sklearn.metrics.mean_squared_error(Y_test_original_scale, pred_test_original_scale))\n",
    "test_rmse"
   ]
  },
  {
   "cell_type": "code",
   "execution_count": 73,
   "metadata": {},
   "outputs": [
    {
     "data": {
      "text/plain": [
       "(47, 1)"
      ]
     },
     "execution_count": 73,
     "metadata": {},
     "output_type": "execute_result"
    }
   ],
   "source": [
    "pred_test.shape"
   ]
  },
  {
   "cell_type": "code",
   "execution_count": 74,
   "metadata": {},
   "outputs": [
    {
     "data": {
      "text/plain": [
       "(95, 1)"
      ]
     },
     "execution_count": 74,
     "metadata": {},
     "output_type": "execute_result"
    }
   ],
   "source": [
    "pred_train.shape"
   ]
  },
  {
   "cell_type": "code",
   "execution_count": 75,
   "metadata": {},
   "outputs": [
    {
     "data": {
      "text/plain": [
       "(144, 1)"
      ]
     },
     "execution_count": 75,
     "metadata": {},
     "output_type": "execute_result"
    }
   ],
   "source": [
    "ts.shape"
   ]
  },
  {
   "cell_type": "code",
   "execution_count": 80,
   "metadata": {
    "scrolled": true
   },
   "outputs": [
    {
     "data": {
      "text/plain": [
       "[<matplotlib.lines.Line2D at 0x7f425c130c88>]"
      ]
     },
     "execution_count": 80,
     "metadata": {},
     "output_type": "execute_result"
    },
    {
     "data": {
      "image/png": "[encoded data removed]",
      "text/plain": [
       "<matplotlib.figure.Figure at 0x7f425c130d68>"
      ]
     },
     "metadata": {},
     "output_type": "display_data"
    }
   ],
   "source": [
    "plt.plot(data.Passengers)\n",
    "\n",
    "plt.plot(np.vstack([pred_train_original_scale, pred_test_original_scale]))"
   ]
  },
  {
   "cell_type": "markdown",
   "metadata": {},
   "source": [
    "http://machinelearningmastery.com/time-series-prediction-lstm-recurrent-neural-networks-python-keras/"
   ]
  }
 ],
 "metadata": {
  "kernelspec": {
   "display_name": "Python 3",
   "language": "python",
   "name": "python3"
  },
  "language_info": {
   "codemirror_mode": {
    "name": "ipython",
    "version": 3
   },
   "file_extension": ".py",
   "mimetype": "text/x-python",
   "name": "python",
   "nbconvert_exporter": "python",
   "pygments_lexer": "ipython3",
   "version": "3.6.1"
  },
  "toc": {
   "nav_menu": {
    "height": "12px",
    "width": "252px"
   },
   "number_sections": true,
   "sideBar": true,
   "skip_h1_title": false,
   "toc_cell": false,
   "toc_position": {},
   "toc_section_display": "block",
   "toc_window_display": false
  }
 },
 "nbformat": 4,
 "nbformat_minor": 2
}
