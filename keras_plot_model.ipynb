{
 "cells": [
  {
   "cell_type": "code",
   "execution_count": 6,
   "metadata": {
    "collapsed": true
   },
   "outputs": [],
   "source": [
    "import keras\n",
    "import IPython\n",
    "\n",
    "model = keras.models.Sequential()\n",
    "model.add(keras.layers.Dense(3, activation='relu', input_dim=3))\n",
    "model.add(keras.layers.Dense(5, activation='relu'))\n",
    "model.add(keras.layers.Dense(2, activation='softmax'))"
   ]
  },
  {
   "cell_type": "markdown",
   "metadata": {},
   "source": [
    "Option-1"
   ]
  },
  {
   "cell_type": "code",
   "execution_count": 7,
   "metadata": {},
   "outputs": [
    {
     "data": {
      "image/png": "[encoded data removed]",
      "text/plain": [
       "<IPython.core.display.Image object>"
      ]
     },
     "execution_count": 7,
     "metadata": {},
     "output_type": "execute_result"
    }
   ],
   "source": [
    "keras.utils.plot_model(model, to_file='test_keras_plot_model.png', show_shapes=True)\n",
    "IPython.display.Image(\"test_keras_plot_model.png\")"
   ]
  },
  {
   "cell_type": "markdown",
   "metadata": {},
   "source": [
    "Option-2"
   ]
  },
  {
   "cell_type": "code",
   "execution_count": 11,
   "metadata": {
    "scrolled": true
   },
   "outputs": [
    {
     "data": {
      "image/svg+xml": [
       "<svg height=\"264pt\" viewBox=\"0.00 0.00 217.00 264.00\" width=\"217pt\" xmlns=\"http://www.w3.org/2000/svg\" xmlns:xlink=\"http://www.w3.org/1999/xlink\">\n",
       "<g class=\"graph\" id=\"graph0\" transform=\"scale(1 1) rotate(0) translate(4 260)\">\n",
       "<title>G</title>\n",
       "<polygon fill=\"white\" points=\"-4,4 -4,-260 213,-260 213,4 -4,4\" stroke=\"none\"/>\n",
       "<!-- 140154817062728 -->\n",
       "<g class=\"node\" id=\"node1\"><title>140154817062728</title>\n",
       "<polygon fill=\"none\" points=\"0,-219.5 0,-255.5 209,-255.5 209,-219.5 0,-219.5\" stroke=\"black\"/>\n",
       "<text font-family=\"Times,serif\" font-size=\"14.00\" text-anchor=\"middle\" x=\"104.5\" y=\"-233.8\">dense_4_input: InputLayer</text>\n",
       "</g>\n",
       "<!-- 140154817060992 -->\n",
       "<g class=\"node\" id=\"node2\"><title>140154817060992</title>\n",
       "<polygon fill=\"none\" points=\"40.5,-146.5 40.5,-182.5 168.5,-182.5 168.5,-146.5 40.5,-146.5\" stroke=\"black\"/>\n",
       "<text font-family=\"Times,serif\" font-size=\"14.00\" text-anchor=\"middle\" x=\"104.5\" y=\"-160.8\">dense_4: Dense</text>\n",
       "</g>\n",
       "<!-- 140154817062728&#45;&gt;140154817060992 -->\n",
       "<g class=\"edge\" id=\"edge1\"><title>140154817062728-&gt;140154817060992</title>\n",
       "<path d=\"M104.5,-219.313C104.5,-211.289 104.5,-201.547 104.5,-192.569\" fill=\"none\" stroke=\"black\"/>\n",
       "<polygon fill=\"black\" points=\"108,-192.529 104.5,-182.529 101,-192.529 108,-192.529\" stroke=\"black\"/>\n",
       "</g>\n",
       "<!-- 140154817278920 -->\n",
       "<g class=\"node\" id=\"node3\"><title>140154817278920</title>\n",
       "<polygon fill=\"none\" points=\"40.5,-73.5 40.5,-109.5 168.5,-109.5 168.5,-73.5 40.5,-73.5\" stroke=\"black\"/>\n",
       "<text font-family=\"Times,serif\" font-size=\"14.00\" text-anchor=\"middle\" x=\"104.5\" y=\"-87.8\">dense_5: Dense</text>\n",
       "</g>\n",
       "<!-- 140154817060992&#45;&gt;140154817278920 -->\n",
       "<g class=\"edge\" id=\"edge2\"><title>140154817060992-&gt;140154817278920</title>\n",
       "<path d=\"M104.5,-146.313C104.5,-138.289 104.5,-128.547 104.5,-119.569\" fill=\"none\" stroke=\"black\"/>\n",
       "<polygon fill=\"black\" points=\"108,-119.529 104.5,-109.529 101,-119.529 108,-119.529\" stroke=\"black\"/>\n",
       "</g>\n",
       "<!-- 140154817278976 -->\n",
       "<g class=\"node\" id=\"node4\"><title>140154817278976</title>\n",
       "<polygon fill=\"none\" points=\"40.5,-0.5 40.5,-36.5 168.5,-36.5 168.5,-0.5 40.5,-0.5\" stroke=\"black\"/>\n",
       "<text font-family=\"Times,serif\" font-size=\"14.00\" text-anchor=\"middle\" x=\"104.5\" y=\"-14.8\">dense_6: Dense</text>\n",
       "</g>\n",
       "<!-- 140154817278920&#45;&gt;140154817278976 -->\n",
       "<g class=\"edge\" id=\"edge3\"><title>140154817278920-&gt;140154817278976</title>\n",
       "<path d=\"M104.5,-73.3129C104.5,-65.2895 104.5,-55.5475 104.5,-46.5691\" fill=\"none\" stroke=\"black\"/>\n",
       "<polygon fill=\"black\" points=\"108,-46.5288 104.5,-36.5288 101,-46.5289 108,-46.5288\" stroke=\"black\"/>\n",
       "</g>\n",
       "</g>\n",
       "</svg>"
      ],
      "text/plain": [
       "<IPython.core.display.SVG object>"
      ]
     },
     "execution_count": 11,
     "metadata": {},
     "output_type": "execute_result"
    }
   ],
   "source": [
    "IPython.display.SVG(keras.utils.vis_utils.model_to_dot(model).create(prog='dot', format='svg'))"
   ]
  },
  {
   "cell_type": "code",
   "execution_count": 12,
   "metadata": {
    "collapsed": true
   },
   "outputs": [],
   "source": [
    "def plot_keras_model(model, show_shapes=True, show_layer_names=True):\n",
    "    from IPython.display import SVG\n",
    "    from keras.utils.vis_utils import model_to_dot\n",
    "    return SVG(model_to_dot(model, show_shapes=show_shapes, show_layer_names=show_layer_names).create(prog='dot', format='svg'))"
   ]
  },
  {
   "cell_type": "code",
   "execution_count": 13,
   "metadata": {},
   "outputs": [
    {
     "data": {
      "image/svg+xml": [
       "<svg height=\"304pt\" viewBox=\"0.00 0.00 256.00 304.00\" width=\"256pt\" xmlns=\"http://www.w3.org/2000/svg\" xmlns:xlink=\"http://www.w3.org/1999/xlink\">\n",
       "<g class=\"graph\" id=\"graph0\" transform=\"scale(1 1) rotate(0) translate(4 300)\">\n",
       "<title>G</title>\n",
       "<polygon fill=\"white\" points=\"-4,4 -4,-300 252,-300 252,4 -4,4\" stroke=\"none\"/>\n",
       "<!-- 140154817062728 -->\n",
       "<g class=\"node\" id=\"node1\"><title>140154817062728</title>\n",
       "<polygon fill=\"none\" points=\"-1.42109e-14,-249.5 -1.42109e-14,-295.5 248,-295.5 248,-249.5 -1.42109e-14,-249.5\" stroke=\"black\"/>\n",
       "<text font-family=\"Times,serif\" font-size=\"14.00\" text-anchor=\"middle\" x=\"48.5\" y=\"-268.8\">InputLayer</text>\n",
       "<polyline fill=\"none\" points=\"97,-249.5 97,-295.5 \" stroke=\"black\"/>\n",
       "<text font-family=\"Times,serif\" font-size=\"14.00\" text-anchor=\"middle\" x=\"131\" y=\"-280.3\">input:</text>\n",
       "<polyline fill=\"none\" points=\"97,-272.5 165,-272.5 \" stroke=\"black\"/>\n",
       "<text font-family=\"Times,serif\" font-size=\"14.00\" text-anchor=\"middle\" x=\"131\" y=\"-257.3\">output:</text>\n",
       "<polyline fill=\"none\" points=\"165,-249.5 165,-295.5 \" stroke=\"black\"/>\n",
       "<text font-family=\"Times,serif\" font-size=\"14.00\" text-anchor=\"middle\" x=\"206.5\" y=\"-280.3\">(None, 3)</text>\n",
       "<polyline fill=\"none\" points=\"165,-272.5 248,-272.5 \" stroke=\"black\"/>\n",
       "<text font-family=\"Times,serif\" font-size=\"14.00\" text-anchor=\"middle\" x=\"206.5\" y=\"-257.3\">(None, 3)</text>\n",
       "</g>\n",
       "<!-- 140154817060992 -->\n",
       "<g class=\"node\" id=\"node2\"><title>140154817060992</title>\n",
       "<polygon fill=\"none\" points=\"18,-166.5 18,-212.5 230,-212.5 230,-166.5 18,-166.5\" stroke=\"black\"/>\n",
       "<text font-family=\"Times,serif\" font-size=\"14.00\" text-anchor=\"middle\" x=\"48.5\" y=\"-185.8\">Dense</text>\n",
       "<polyline fill=\"none\" points=\"79,-166.5 79,-212.5 \" stroke=\"black\"/>\n",
       "<text font-family=\"Times,serif\" font-size=\"14.00\" text-anchor=\"middle\" x=\"113\" y=\"-197.3\">input:</text>\n",
       "<polyline fill=\"none\" points=\"79,-189.5 147,-189.5 \" stroke=\"black\"/>\n",
       "<text font-family=\"Times,serif\" font-size=\"14.00\" text-anchor=\"middle\" x=\"113\" y=\"-174.3\">output:</text>\n",
       "<polyline fill=\"none\" points=\"147,-166.5 147,-212.5 \" stroke=\"black\"/>\n",
       "<text font-family=\"Times,serif\" font-size=\"14.00\" text-anchor=\"middle\" x=\"188.5\" y=\"-197.3\">(None, 3)</text>\n",
       "<polyline fill=\"none\" points=\"147,-189.5 230,-189.5 \" stroke=\"black\"/>\n",
       "<text font-family=\"Times,serif\" font-size=\"14.00\" text-anchor=\"middle\" x=\"188.5\" y=\"-174.3\">(None, 3)</text>\n",
       "</g>\n",
       "<!-- 140154817062728&#45;&gt;140154817060992 -->\n",
       "<g class=\"edge\" id=\"edge1\"><title>140154817062728-&gt;140154817060992</title>\n",
       "<path d=\"M124,-249.366C124,-241.152 124,-231.658 124,-222.725\" fill=\"none\" stroke=\"black\"/>\n",
       "<polygon fill=\"black\" points=\"127.5,-222.607 124,-212.607 120.5,-222.607 127.5,-222.607\" stroke=\"black\"/>\n",
       "</g>\n",
       "<!-- 140154817278920 -->\n",
       "<g class=\"node\" id=\"node3\"><title>140154817278920</title>\n",
       "<polygon fill=\"none\" points=\"18,-83.5 18,-129.5 230,-129.5 230,-83.5 18,-83.5\" stroke=\"black\"/>\n",
       "<text font-family=\"Times,serif\" font-size=\"14.00\" text-anchor=\"middle\" x=\"48.5\" y=\"-102.8\">Dense</text>\n",
       "<polyline fill=\"none\" points=\"79,-83.5 79,-129.5 \" stroke=\"black\"/>\n",
       "<text font-family=\"Times,serif\" font-size=\"14.00\" text-anchor=\"middle\" x=\"113\" y=\"-114.3\">input:</text>\n",
       "<polyline fill=\"none\" points=\"79,-106.5 147,-106.5 \" stroke=\"black\"/>\n",
       "<text font-family=\"Times,serif\" font-size=\"14.00\" text-anchor=\"middle\" x=\"113\" y=\"-91.3\">output:</text>\n",
       "<polyline fill=\"none\" points=\"147,-83.5 147,-129.5 \" stroke=\"black\"/>\n",
       "<text font-family=\"Times,serif\" font-size=\"14.00\" text-anchor=\"middle\" x=\"188.5\" y=\"-114.3\">(None, 3)</text>\n",
       "<polyline fill=\"none\" points=\"147,-106.5 230,-106.5 \" stroke=\"black\"/>\n",
       "<text font-family=\"Times,serif\" font-size=\"14.00\" text-anchor=\"middle\" x=\"188.5\" y=\"-91.3\">(None, 5)</text>\n",
       "</g>\n",
       "<!-- 140154817060992&#45;&gt;140154817278920 -->\n",
       "<g class=\"edge\" id=\"edge2\"><title>140154817060992-&gt;140154817278920</title>\n",
       "<path d=\"M124,-166.366C124,-158.152 124,-148.658 124,-139.725\" fill=\"none\" stroke=\"black\"/>\n",
       "<polygon fill=\"black\" points=\"127.5,-139.607 124,-129.607 120.5,-139.607 127.5,-139.607\" stroke=\"black\"/>\n",
       "</g>\n",
       "<!-- 140154817278976 -->\n",
       "<g class=\"node\" id=\"node4\"><title>140154817278976</title>\n",
       "<polygon fill=\"none\" points=\"18,-0.5 18,-46.5 230,-46.5 230,-0.5 18,-0.5\" stroke=\"black\"/>\n",
       "<text font-family=\"Times,serif\" font-size=\"14.00\" text-anchor=\"middle\" x=\"48.5\" y=\"-19.8\">Dense</text>\n",
       "<polyline fill=\"none\" points=\"79,-0.5 79,-46.5 \" stroke=\"black\"/>\n",
       "<text font-family=\"Times,serif\" font-size=\"14.00\" text-anchor=\"middle\" x=\"113\" y=\"-31.3\">input:</text>\n",
       "<polyline fill=\"none\" points=\"79,-23.5 147,-23.5 \" stroke=\"black\"/>\n",
       "<text font-family=\"Times,serif\" font-size=\"14.00\" text-anchor=\"middle\" x=\"113\" y=\"-8.3\">output:</text>\n",
       "<polyline fill=\"none\" points=\"147,-0.5 147,-46.5 \" stroke=\"black\"/>\n",
       "<text font-family=\"Times,serif\" font-size=\"14.00\" text-anchor=\"middle\" x=\"188.5\" y=\"-31.3\">(None, 5)</text>\n",
       "<polyline fill=\"none\" points=\"147,-23.5 230,-23.5 \" stroke=\"black\"/>\n",
       "<text font-family=\"Times,serif\" font-size=\"14.00\" text-anchor=\"middle\" x=\"188.5\" y=\"-8.3\">(None, 2)</text>\n",
       "</g>\n",
       "<!-- 140154817278920&#45;&gt;140154817278976 -->\n",
       "<g class=\"edge\" id=\"edge3\"><title>140154817278920-&gt;140154817278976</title>\n",
       "<path d=\"M124,-83.3664C124,-75.1516 124,-65.6579 124,-56.7252\" fill=\"none\" stroke=\"black\"/>\n",
       "<polygon fill=\"black\" points=\"127.5,-56.6068 124,-46.6068 120.5,-56.6069 127.5,-56.6068\" stroke=\"black\"/>\n",
       "</g>\n",
       "</g>\n",
       "</svg>"
      ],
      "text/plain": [
       "<IPython.core.display.SVG object>"
      ]
     },
     "execution_count": 13,
     "metadata": {},
     "output_type": "execute_result"
    }
   ],
   "source": [
    "plot_keras_model(model, show_shapes=True, show_layer_names=False)"
   ]
  },
  {
   "cell_type": "markdown",
   "metadata": {},
   "source": [
    "https://keras.io/visualization/"
   ]
  }
 ],
 "metadata": {
  "kernelspec": {
   "display_name": "Python 3",
   "language": "python",
   "name": "python3"
  },
  "language_info": {
   "codemirror_mode": {
    "name": "ipython",
    "version": 3
   },
   "file_extension": ".py",
   "mimetype": "text/x-python",
   "name": "python",
   "nbconvert_exporter": "python",
   "pygments_lexer": "ipython3",
   "version": "3.6.1"
  },
  "toc": {
   "nav_menu": {
    "height": "86px",
    "width": "252px"
   },
   "number_sections": true,
   "sideBar": true,
   "skip_h1_title": false,
   "toc_cell": false,
   "toc_position": {},
   "toc_section_display": "block",
   "toc_window_display": true
  }
 },
 "nbformat": 4,
 "nbformat_minor": 2
}
