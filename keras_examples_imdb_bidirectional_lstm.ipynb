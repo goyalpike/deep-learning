{
 "cells": [
  {
   "cell_type": "markdown",
   "metadata": {},
   "source": [
    "https://github.com/fchollet/keras/blob/master/examples/imdb_bidirectional_lstm.py"
   ]
  },
  {
   "cell_type": "code",
   "execution_count": 1,
   "metadata": {
    "scrolled": true
   },
   "outputs": [
    {
     "name": "stderr",
     "output_type": "stream",
     "text": [
      "Using TensorFlow backend.\n"
     ]
    }
   ],
   "source": [
    "from utilities import plot_keras_model"
   ]
  },
  {
   "cell_type": "code",
   "execution_count": 2,
   "metadata": {
    "collapsed": true
   },
   "outputs": [],
   "source": [
    "'''Trains a Bidirectional LSTM on the IMDB sentiment classification task.\n",
    "Output after 4 epochs on CPU: ~0.8146\n",
    "Time per epoch on CPU (Core i7): ~150s.\n",
    "'''\n",
    "\n",
    "from __future__ import print_function\n",
    "import numpy as np\n",
    "\n",
    "from keras.preprocessing import sequence\n",
    "from keras.models import Sequential\n",
    "from keras.layers import Dense, Dropout, Embedding, LSTM, Bidirectional\n",
    "from keras.datasets import imdb"
   ]
  },
  {
   "cell_type": "code",
   "execution_count": 3,
   "metadata": {
    "scrolled": false
   },
   "outputs": [
    {
     "name": "stdout",
     "output_type": "stream",
     "text": [
      "Loading data...\n",
      "25000 train sequences\n",
      "25000 test sequences\n"
     ]
    }
   ],
   "source": [
    "max_features = 20000\n",
    "# cut texts after this number of words\n",
    "# (among top max_features most common words)\n",
    "maxlen = 100\n",
    "batch_size = 32\n",
    "\n",
    "print('Loading data...')\n",
    "(x_train, y_train), (x_test, y_test) = imdb.load_data(num_words=max_features)\n",
    "print(len(x_train), 'train sequences')\n",
    "print(len(x_test), 'test sequences')"
   ]
  },
  {
   "cell_type": "code",
   "execution_count": 4,
   "metadata": {
    "scrolled": false
   },
   "outputs": [
    {
     "name": "stdout",
     "output_type": "stream",
     "text": [
      "Pad sequences (samples x time)\n",
      "x_train shape: (25000, 100)\n",
      "x_test shape: (25000, 100)\n"
     ]
    }
   ],
   "source": [
    "print('Pad sequences (samples x time)')\n",
    "x_train = sequence.pad_sequences(x_train, maxlen=maxlen)\n",
    "x_test = sequence.pad_sequences(x_test, maxlen=maxlen)\n",
    "print('x_train shape:', x_train.shape)\n",
    "print('x_test shape:', x_test.shape)\n",
    "y_train = np.array(y_train)\n",
    "y_test = np.array(y_test)"
   ]
  },
  {
   "cell_type": "code",
   "execution_count": 5,
   "metadata": {
    "collapsed": true
   },
   "outputs": [],
   "source": [
    "model = Sequential()\n",
    "model.add(Embedding(max_features, 128, input_length=maxlen))\n",
    "model.add(Bidirectional(LSTM(64)))\n",
    "model.add(Dropout(0.5))\n",
    "model.add(Dense(1, activation='sigmoid'))\n",
    "\n",
    "# try using different optimizers and different optimizer configs\n",
    "model.compile('adam', 'binary_crossentropy', metrics=['accuracy'])"
   ]
  },
  {
   "cell_type": "code",
   "execution_count": 6,
   "metadata": {},
   "outputs": [
    {
     "data": {
      "image/svg+xml": [
       "<svg height=\"387pt\" viewBox=\"0.00 0.00 550.00 387.00\" width=\"550pt\" xmlns=\"http://www.w3.org/2000/svg\" xmlns:xlink=\"http://www.w3.org/1999/xlink\">\n",
       "<g class=\"graph\" id=\"graph0\" transform=\"scale(1 1) rotate(0) translate(4 383)\">\n",
       "<title>G</title>\n",
       "<polygon fill=\"white\" points=\"-4,4 -4,-383 546,-383 546,4 -4,4\" stroke=\"none\"/>\n",
       "<!-- 139783804230512 -->\n",
       "<g class=\"node\" id=\"node1\"><title>139783804230512</title>\n",
       "<polygon fill=\"none\" points=\"63,-332.5 63,-378.5 479,-378.5 479,-332.5 63,-332.5\" stroke=\"black\"/>\n",
       "<text font-family=\"Times,serif\" font-size=\"14.00\" text-anchor=\"middle\" x=\"186.5\" y=\"-351.8\">embedding_1_input: InputLayer</text>\n",
       "<polyline fill=\"none\" points=\"310,-332.5 310,-378.5 \" stroke=\"black\"/>\n",
       "<text font-family=\"Times,serif\" font-size=\"14.00\" text-anchor=\"middle\" x=\"344\" y=\"-363.3\">input:</text>\n",
       "<polyline fill=\"none\" points=\"310,-355.5 378,-355.5 \" stroke=\"black\"/>\n",
       "<text font-family=\"Times,serif\" font-size=\"14.00\" text-anchor=\"middle\" x=\"344\" y=\"-340.3\">output:</text>\n",
       "<polyline fill=\"none\" points=\"378,-332.5 378,-378.5 \" stroke=\"black\"/>\n",
       "<text font-family=\"Times,serif\" font-size=\"14.00\" text-anchor=\"middle\" x=\"428.5\" y=\"-363.3\">(None, 100)</text>\n",
       "<polyline fill=\"none\" points=\"378,-355.5 479,-355.5 \" stroke=\"black\"/>\n",
       "<text font-family=\"Times,serif\" font-size=\"14.00\" text-anchor=\"middle\" x=\"428.5\" y=\"-340.3\">(None, 100)</text>\n",
       "</g>\n",
       "<!-- 139783804231296 -->\n",
       "<g class=\"node\" id=\"node2\"><title>139783804231296</title>\n",
       "<polygon fill=\"none\" points=\"67,-249.5 67,-295.5 475,-295.5 475,-249.5 67,-249.5\" stroke=\"black\"/>\n",
       "<text font-family=\"Times,serif\" font-size=\"14.00\" text-anchor=\"middle\" x=\"168.5\" y=\"-268.8\">embedding_1: Embedding</text>\n",
       "<polyline fill=\"none\" points=\"270,-249.5 270,-295.5 \" stroke=\"black\"/>\n",
       "<text font-family=\"Times,serif\" font-size=\"14.00\" text-anchor=\"middle\" x=\"304\" y=\"-280.3\">input:</text>\n",
       "<polyline fill=\"none\" points=\"270,-272.5 338,-272.5 \" stroke=\"black\"/>\n",
       "<text font-family=\"Times,serif\" font-size=\"14.00\" text-anchor=\"middle\" x=\"304\" y=\"-257.3\">output:</text>\n",
       "<polyline fill=\"none\" points=\"338,-249.5 338,-295.5 \" stroke=\"black\"/>\n",
       "<text font-family=\"Times,serif\" font-size=\"14.00\" text-anchor=\"middle\" x=\"406.5\" y=\"-280.3\">(None, 100)</text>\n",
       "<polyline fill=\"none\" points=\"338,-272.5 475,-272.5 \" stroke=\"black\"/>\n",
       "<text font-family=\"Times,serif\" font-size=\"14.00\" text-anchor=\"middle\" x=\"406.5\" y=\"-257.3\">(None, 100, 128)</text>\n",
       "</g>\n",
       "<!-- 139783804230512&#45;&gt;139783804231296 -->\n",
       "<g class=\"edge\" id=\"edge1\"><title>139783804230512-&gt;139783804231296</title>\n",
       "<path d=\"M271,-332.366C271,-324.152 271,-314.658 271,-305.725\" fill=\"none\" stroke=\"black\"/>\n",
       "<polygon fill=\"black\" points=\"274.5,-305.607 271,-295.607 267.5,-305.607 274.5,-305.607\" stroke=\"black\"/>\n",
       "</g>\n",
       "<!-- 139783509484936 -->\n",
       "<g class=\"node\" id=\"node3\"><title>139783509484936</title>\n",
       "<polygon fill=\"none\" points=\"0,-166.5 0,-212.5 542,-212.5 542,-166.5 0,-166.5\" stroke=\"black\"/>\n",
       "<text font-family=\"Times,serif\" font-size=\"14.00\" text-anchor=\"middle\" x=\"168.5\" y=\"-185.8\">bidirectional_1(lstm_1): Bidirectional(LSTM)</text>\n",
       "<polyline fill=\"none\" points=\"337,-166.5 337,-212.5 \" stroke=\"black\"/>\n",
       "<text font-family=\"Times,serif\" font-size=\"14.00\" text-anchor=\"middle\" x=\"371\" y=\"-197.3\">input:</text>\n",
       "<polyline fill=\"none\" points=\"337,-189.5 405,-189.5 \" stroke=\"black\"/>\n",
       "<text font-family=\"Times,serif\" font-size=\"14.00\" text-anchor=\"middle\" x=\"371\" y=\"-174.3\">output:</text>\n",
       "<polyline fill=\"none\" points=\"405,-166.5 405,-212.5 \" stroke=\"black\"/>\n",
       "<text font-family=\"Times,serif\" font-size=\"14.00\" text-anchor=\"middle\" x=\"473.5\" y=\"-197.3\">(None, 100, 128)</text>\n",
       "<polyline fill=\"none\" points=\"405,-189.5 542,-189.5 \" stroke=\"black\"/>\n",
       "<text font-family=\"Times,serif\" font-size=\"14.00\" text-anchor=\"middle\" x=\"473.5\" y=\"-174.3\">(None, 128)</text>\n",
       "</g>\n",
       "<!-- 139783804231296&#45;&gt;139783509484936 -->\n",
       "<g class=\"edge\" id=\"edge2\"><title>139783804231296-&gt;139783509484936</title>\n",
       "<path d=\"M271,-249.366C271,-241.152 271,-231.658 271,-222.725\" fill=\"none\" stroke=\"black\"/>\n",
       "<polygon fill=\"black\" points=\"274.5,-222.607 271,-212.607 267.5,-222.607 274.5,-222.607\" stroke=\"black\"/>\n",
       "</g>\n",
       "<!-- 139783804231184 -->\n",
       "<g class=\"node\" id=\"node4\"><title>139783804231184</title>\n",
       "<polygon fill=\"none\" points=\"108,-83.5 108,-129.5 434,-129.5 434,-83.5 108,-83.5\" stroke=\"black\"/>\n",
       "<text font-family=\"Times,serif\" font-size=\"14.00\" text-anchor=\"middle\" x=\"186.5\" y=\"-102.8\">dropout_1: Dropout</text>\n",
       "<polyline fill=\"none\" points=\"265,-83.5 265,-129.5 \" stroke=\"black\"/>\n",
       "<text font-family=\"Times,serif\" font-size=\"14.00\" text-anchor=\"middle\" x=\"299\" y=\"-114.3\">input:</text>\n",
       "<polyline fill=\"none\" points=\"265,-106.5 333,-106.5 \" stroke=\"black\"/>\n",
       "<text font-family=\"Times,serif\" font-size=\"14.00\" text-anchor=\"middle\" x=\"299\" y=\"-91.3\">output:</text>\n",
       "<polyline fill=\"none\" points=\"333,-83.5 333,-129.5 \" stroke=\"black\"/>\n",
       "<text font-family=\"Times,serif\" font-size=\"14.00\" text-anchor=\"middle\" x=\"383.5\" y=\"-114.3\">(None, 128)</text>\n",
       "<polyline fill=\"none\" points=\"333,-106.5 434,-106.5 \" stroke=\"black\"/>\n",
       "<text font-family=\"Times,serif\" font-size=\"14.00\" text-anchor=\"middle\" x=\"383.5\" y=\"-91.3\">(None, 128)</text>\n",
       "</g>\n",
       "<!-- 139783509484936&#45;&gt;139783804231184 -->\n",
       "<g class=\"edge\" id=\"edge3\"><title>139783509484936-&gt;139783804231184</title>\n",
       "<path d=\"M271,-166.366C271,-158.152 271,-148.658 271,-139.725\" fill=\"none\" stroke=\"black\"/>\n",
       "<polygon fill=\"black\" points=\"274.5,-139.607 271,-129.607 267.5,-139.607 274.5,-139.607\" stroke=\"black\"/>\n",
       "</g>\n",
       "<!-- 139783800593488 -->\n",
       "<g class=\"node\" id=\"node5\"><title>139783800593488</title>\n",
       "<polygon fill=\"none\" points=\"122.5,-0.5 122.5,-46.5 419.5,-46.5 419.5,-0.5 122.5,-0.5\" stroke=\"black\"/>\n",
       "<text font-family=\"Times,serif\" font-size=\"14.00\" text-anchor=\"middle\" x=\"186.5\" y=\"-19.8\">dense_1: Dense</text>\n",
       "<polyline fill=\"none\" points=\"250.5,-0.5 250.5,-46.5 \" stroke=\"black\"/>\n",
       "<text font-family=\"Times,serif\" font-size=\"14.00\" text-anchor=\"middle\" x=\"284.5\" y=\"-31.3\">input:</text>\n",
       "<polyline fill=\"none\" points=\"250.5,-23.5 318.5,-23.5 \" stroke=\"black\"/>\n",
       "<text font-family=\"Times,serif\" font-size=\"14.00\" text-anchor=\"middle\" x=\"284.5\" y=\"-8.3\">output:</text>\n",
       "<polyline fill=\"none\" points=\"318.5,-0.5 318.5,-46.5 \" stroke=\"black\"/>\n",
       "<text font-family=\"Times,serif\" font-size=\"14.00\" text-anchor=\"middle\" x=\"369\" y=\"-31.3\">(None, 128)</text>\n",
       "<polyline fill=\"none\" points=\"318.5,-23.5 419.5,-23.5 \" stroke=\"black\"/>\n",
       "<text font-family=\"Times,serif\" font-size=\"14.00\" text-anchor=\"middle\" x=\"369\" y=\"-8.3\">(None, 1)</text>\n",
       "</g>\n",
       "<!-- 139783804231184&#45;&gt;139783800593488 -->\n",
       "<g class=\"edge\" id=\"edge4\"><title>139783804231184-&gt;139783800593488</title>\n",
       "<path d=\"M271,-83.3664C271,-75.1516 271,-65.6579 271,-56.7252\" fill=\"none\" stroke=\"black\"/>\n",
       "<polygon fill=\"black\" points=\"274.5,-56.6068 271,-46.6068 267.5,-56.6069 274.5,-56.6068\" stroke=\"black\"/>\n",
       "</g>\n",
       "</g>\n",
       "</svg>"
      ],
      "text/plain": [
       "<IPython.core.display.SVG object>"
      ]
     },
     "execution_count": 6,
     "metadata": {},
     "output_type": "execute_result"
    }
   ],
   "source": [
    "plot_keras_model(model)"
   ]
  },
  {
   "cell_type": "code",
   "execution_count": 7,
   "metadata": {},
   "outputs": [
    {
     "name": "stdout",
     "output_type": "stream",
     "text": [
      "Train...\n",
      "Train on 25000 samples, validate on 25000 samples\n",
      "Epoch 1/4\n",
      "25000/25000 [==============================] - 155s 6ms/step - loss: 0.4276 - acc: 0.8027 - val_loss: 0.3466 - val_acc: 0.8475\n",
      "Epoch 2/4\n",
      "25000/25000 [==============================] - 154s 6ms/step - loss: 0.2271 - acc: 0.9140 - val_loss: 0.4330 - val_acc: 0.8409\n",
      "Epoch 3/4\n",
      "25000/25000 [==============================] - 153s 6ms/step - loss: 0.1312 - acc: 0.9516 - val_loss: 0.4710 - val_acc: 0.8394\n",
      "Epoch 4/4\n",
      "25000/25000 [==============================] - 154s 6ms/step - loss: 0.0646 - acc: 0.9776 - val_loss: 0.6038 - val_acc: 0.8279\n"
     ]
    },
    {
     "data": {
      "text/plain": [
       "<keras.callbacks.History at 0x7f21ee91afd0>"
      ]
     },
     "execution_count": 7,
     "metadata": {},
     "output_type": "execute_result"
    }
   ],
   "source": [
    "print('Train...')\n",
    "model.fit(x_train, y_train,\n",
    "          batch_size=batch_size,\n",
    "          epochs=4,\n",
    "validation_data=[x_test, y_test])"
   ]
  },
  {
   "cell_type": "code",
   "execution_count": null,
   "metadata": {
    "collapsed": true
   },
   "outputs": [],
   "source": []
  }
 ],
 "metadata": {
  "kernelspec": {
   "display_name": "Python 3",
   "language": "python",
   "name": "python3"
  },
  "language_info": {
   "codemirror_mode": {
    "name": "ipython",
    "version": 3
   },
   "file_extension": ".py",
   "mimetype": "text/x-python",
   "name": "python",
   "nbconvert_exporter": "python",
   "pygments_lexer": "ipython3",
   "version": "3.6.1"
  },
  "toc": {
   "nav_menu": {},
   "number_sections": true,
   "sideBar": true,
   "skip_h1_title": false,
   "toc_cell": false,
   "toc_position": {},
   "toc_section_display": "block",
   "toc_window_display": false
  }
 },
 "nbformat": 4,
 "nbformat_minor": 2
}
