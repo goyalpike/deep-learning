{
 "cells": [
  {
   "cell_type": "code",
   "execution_count": 1,
   "metadata": {
    "scrolled": true
   },
   "outputs": [
    {
     "name": "stderr",
     "output_type": "stream",
     "text": [
      "Using TensorFlow backend.\n"
     ]
    }
   ],
   "source": [
    "import keras\n",
    "import numpy as np"
   ]
  },
  {
   "cell_type": "code",
   "execution_count": 58,
   "metadata": {
    "collapsed": true
   },
   "outputs": [],
   "source": [
    "num_samples = 10\n",
    "num_timestamps = 7 \n",
    "num_features = 3\n",
    "\n",
    "inputs = keras.layers.Input(shape=(num_timestamps, num_features))"
   ]
  },
  {
   "cell_type": "code",
   "execution_count": 59,
   "metadata": {
    "collapsed": true,
    "scrolled": true
   },
   "outputs": [],
   "source": [
    "inputs_data = np.random.random(size=(num_samples, num_timestamps, num_features))"
   ]
  },
  {
   "cell_type": "code",
   "execution_count": 60,
   "metadata": {
    "collapsed": true
   },
   "outputs": [],
   "source": [
    "layer_dense = keras.layers.Dense(5)"
   ]
  },
  {
   "cell_type": "code",
   "execution_count": 61,
   "metadata": {},
   "outputs": [
    {
     "data": {
      "text/plain": [
       "TensorShape([Dimension(None), Dimension(7), Dimension(3)])"
      ]
     },
     "execution_count": 61,
     "metadata": {},
     "output_type": "execute_result"
    }
   ],
   "source": [
    "inputs.shape"
   ]
  },
  {
   "cell_type": "code",
   "execution_count": 62,
   "metadata": {},
   "outputs": [
    {
     "name": "stdout",
     "output_type": "stream",
     "text": [
      "_________________________________________________________________\n",
      "Layer (type)                 Output Shape              Param #   \n",
      "=================================================================\n",
      "input_3 (InputLayer)         (None, 7, 3)              0         \n",
      "_________________________________________________________________\n",
      "time_distributed_3 (TimeDist (None, 7, 5)              20        \n",
      "=================================================================\n",
      "Total params: 20\n",
      "Trainable params: 20\n",
      "Non-trainable params: 0\n",
      "_________________________________________________________________\n"
     ]
    }
   ],
   "source": [
    "x = inputs\n",
    "layer_timedistributed = keras.layers.TimeDistributed(layer_dense)\n",
    "outputs = layer_timedistributed(x)\n",
    "model = keras.models.Model(inputs, outputs)\n",
    "model.summary()"
   ]
  },
  {
   "cell_type": "code",
   "execution_count": 63,
   "metadata": {
    "collapsed": true
   },
   "outputs": [],
   "source": [
    "assert 5 * (num_features + 1) == 20"
   ]
  },
  {
   "cell_type": "code",
   "execution_count": 64,
   "metadata": {
    "scrolled": true
   },
   "outputs": [
    {
     "data": {
      "text/plain": [
       "[array([[-0.50637197,  0.84589106, -0.74999881,  0.21412855,  0.20455903],\n",
       "        [ 0.82960254, -0.13679856, -0.63914132, -0.02140689,  0.03367054],\n",
       "        [ 0.64820176, -0.74539769, -0.54102802,  0.07356101,  0.28289562]], dtype=float32),\n",
       " array([ 0.,  0.,  0.,  0.,  0.], dtype=float32)]"
      ]
     },
     "execution_count": 64,
     "metadata": {},
     "output_type": "execute_result"
    }
   ],
   "source": [
    "layer_dense.get_weights()"
   ]
  },
  {
   "cell_type": "code",
   "execution_count": 65,
   "metadata": {},
   "outputs": [
    {
     "data": {
      "text/plain": [
       "[array([[-0.50637197,  0.84589106, -0.74999881,  0.21412855,  0.20455903],\n",
       "        [ 0.82960254, -0.13679856, -0.63914132, -0.02140689,  0.03367054],\n",
       "        [ 0.64820176, -0.74539769, -0.54102802,  0.07356101,  0.28289562]], dtype=float32),\n",
       " array([ 0.,  0.,  0.,  0.,  0.], dtype=float32)]"
      ]
     },
     "execution_count": 65,
     "metadata": {},
     "output_type": "execute_result"
    }
   ],
   "source": [
    "layer_timedistributed.get_weights()"
   ]
  },
  {
   "cell_type": "code",
   "execution_count": 66,
   "metadata": {
    "collapsed": true
   },
   "outputs": [],
   "source": [
    "weights = model.get_weights()"
   ]
  },
  {
   "cell_type": "code",
   "execution_count": 67,
   "metadata": {
    "collapsed": true
   },
   "outputs": [],
   "source": [
    "A, b = tuple(weights)"
   ]
  },
  {
   "cell_type": "code",
   "execution_count": 68,
   "metadata": {},
   "outputs": [
    {
     "data": {
      "text/plain": [
       "(array([[-0.50637197,  0.84589106, -0.74999881,  0.21412855,  0.20455903],\n",
       "        [ 0.82960254, -0.13679856, -0.63914132, -0.02140689,  0.03367054],\n",
       "        [ 0.64820176, -0.74539769, -0.54102802,  0.07356101,  0.28289562]], dtype=float32),\n",
       " array([ 0.,  0.,  0.,  0.,  0.], dtype=float32))"
      ]
     },
     "execution_count": 68,
     "metadata": {},
     "output_type": "execute_result"
    }
   ],
   "source": [
    "A, b"
   ]
  },
  {
   "cell_type": "code",
   "execution_count": 69,
   "metadata": {
    "scrolled": true
   },
   "outputs": [],
   "source": [
    "outputs_data = model.predict(inputs_data)"
   ]
  },
  {
   "cell_type": "code",
   "execution_count": 70,
   "metadata": {},
   "outputs": [
    {
     "data": {
      "text/plain": [
       "(10, 7, 5)"
      ]
     },
     "execution_count": 70,
     "metadata": {},
     "output_type": "execute_result"
    }
   ],
   "source": [
    "outputs_data.shape"
   ]
  },
  {
   "cell_type": "code",
   "execution_count": 71,
   "metadata": {},
   "outputs": [
    {
     "data": {
      "text/plain": [
       "array([[ 0.1782724 ,  0.53597748, -1.25612879,  0.2154479 ,  0.29625016],\n",
       "       [ 0.14978094,  0.4218055 , -1.24501336,  0.2337918 ,  0.344239  ],\n",
       "       [ 0.9448899 , -0.37499383, -0.96535516,  0.06452536,  0.22608453],\n",
       "       [ 1.18824255, -0.57341552, -1.32488573,  0.12261043,  0.3718113 ],\n",
       "       [ 0.31247386,  0.19988748, -1.31525838,  0.23957486,  0.39894584],\n",
       "       [ 0.01734186,  0.55741256, -1.01195765,  0.18903649,  0.23793453],\n",
       "       [ 1.05223942, -0.25068721, -1.6443764 ,  0.19887528,  0.44387656]], dtype=float32)"
      ]
     },
     "execution_count": 71,
     "metadata": {},
     "output_type": "execute_result"
    }
   ],
   "source": [
    "outputs_data[4]"
   ]
  },
  {
   "cell_type": "code",
   "execution_count": 72,
   "metadata": {
    "scrolled": true
   },
   "outputs": [
    {
     "data": {
      "text/plain": [
       "array([[ 0.17827241,  0.53597745, -1.25612882,  0.21544788,  0.29625017],\n",
       "       [ 0.14978093,  0.42180552, -1.24501334,  0.2337918 ,  0.344239  ],\n",
       "       [ 0.94488988, -0.37499385, -0.96535516,  0.06452536,  0.22608453],\n",
       "       [ 1.18824255, -0.57341553, -1.32488569,  0.12261044,  0.37181129],\n",
       "       [ 0.31247385,  0.19988751, -1.31525834,  0.23957487,  0.39894584],\n",
       "       [ 0.01734185,  0.55741258, -1.01195763,  0.18903648,  0.23793451],\n",
       "       [ 1.05223942, -0.25068726, -1.64437632,  0.19887528,  0.44387656]])"
      ]
     },
     "execution_count": 72,
     "metadata": {},
     "output_type": "execute_result"
    }
   ],
   "source": [
    "np.dot(inputs_data[4], A) + b"
   ]
  },
  {
   "cell_type": "code",
   "execution_count": 73,
   "metadata": {
    "collapsed": true,
    "scrolled": false
   },
   "outputs": [],
   "source": [
    "for i in range(num_samples):\n",
    "    assert np.allclose(outputs_data[i], np.dot(inputs_data[i], A) + b)"
   ]
  },
  {
   "cell_type": "code",
   "execution_count": null,
   "metadata": {
    "collapsed": true
   },
   "outputs": [],
   "source": []
  },
  {
   "cell_type": "code",
   "execution_count": null,
   "metadata": {
    "collapsed": true
   },
   "outputs": [],
   "source": []
  }
 ],
 "metadata": {
  "kernelspec": {
   "display_name": "Python 3",
   "language": "python",
   "name": "python3"
  },
  "language_info": {
   "codemirror_mode": {
    "name": "ipython",
    "version": 3
   },
   "file_extension": ".py",
   "mimetype": "text/x-python",
   "name": "python",
   "nbconvert_exporter": "python",
   "pygments_lexer": "ipython3",
   "version": "3.6.1"
  },
  "toc": {
   "nav_menu": {
    "height": "12px",
    "width": "252px"
   },
   "number_sections": true,
   "sideBar": true,
   "skip_h1_title": false,
   "toc_cell": false,
   "toc_position": {},
   "toc_section_display": "block",
   "toc_window_display": true
  }
 },
 "nbformat": 4,
 "nbformat_minor": 2
}
