{
 "cells": [
  {
   "cell_type": "code",
   "execution_count": 1,
   "metadata": {
    "collapsed": false,
    "scrolled": true
   },
   "outputs": [
    {
     "name": "stderr",
     "output_type": "stream",
     "text": [
      "Using Theano backend.\n"
     ]
    }
   ],
   "source": [
    "from ds_utils.imports import *"
   ]
  },
  {
   "cell_type": "code",
   "execution_count": 2,
   "metadata": {
    "collapsed": false
   },
   "outputs": [
    {
     "data": {
      "text/plain": [
       "keras.layers.wrappers.TimeDistributed"
      ]
     },
     "execution_count": 2,
     "metadata": {},
     "output_type": "execute_result"
    }
   ],
   "source": [
    "keras.layers.TimeDistributed"
   ]
  },
  {
   "cell_type": "code",
   "execution_count": 3,
   "metadata": {
    "collapsed": false
   },
   "outputs": [],
   "source": [
    "keras.layers.TimeDistributed??"
   ]
  },
  {
   "cell_type": "code",
   "execution_count": 4,
   "metadata": {
    "collapsed": false,
    "scrolled": true
   },
   "outputs": [],
   "source": [
    "num_samples = 5\n",
    "num_timestamps = 10 \n",
    "num_features = 3\n",
    "\n",
    "inputs = np.random.random(size=(num_samples, num_timestamps, num_features))"
   ]
  },
  {
   "cell_type": "code",
   "execution_count": 5,
   "metadata": {
    "collapsed": true
   },
   "outputs": [],
   "source": [
    "model = keras.models.Sequential()"
   ]
  },
  {
   "cell_type": "code",
   "execution_count": 8,
   "metadata": {
    "collapsed": false
   },
   "outputs": [],
   "source": [
    "layer_dense = keras.layers.Dense(5)"
   ]
  },
  {
   "cell_type": "code",
   "execution_count": 10,
   "metadata": {
    "collapsed": false
   },
   "outputs": [],
   "source": [
    "layer_timedistributed = keras.layers.TimeDistributed(layer_dense, input_shape=(num_timestamps, num_features))"
   ]
  },
  {
   "cell_type": "code",
   "execution_count": 11,
   "metadata": {
    "collapsed": false
   },
   "outputs": [],
   "source": [
    "model.add(layer_timedistributed)"
   ]
  },
  {
   "cell_type": "code",
   "execution_count": 13,
   "metadata": {
    "collapsed": false,
    "scrolled": false
   },
   "outputs": [
    {
     "data": {
      "text/plain": [
       "(None, 10, 5)"
      ]
     },
     "execution_count": 13,
     "metadata": {},
     "output_type": "execute_result"
    }
   ],
   "source": [
    "model.output_shape"
   ]
  },
  {
   "cell_type": "code",
   "execution_count": 17,
   "metadata": {
    "collapsed": false,
    "scrolled": false
   },
   "outputs": [
    {
     "data": {
      "text/plain": [
       "[array([[-0.02868284, -0.42543471, -0.458038  ,  0.72853565, -0.66938698],\n",
       "        [ 0.30541494, -0.05298508,  0.15940712, -0.81592357,  0.52520168],\n",
       "        [-0.05595772,  0.5223909 ,  0.22461137,  0.72254401, -0.00585325]], dtype=float32),\n",
       " array([ 0.,  0.,  0.,  0.,  0.], dtype=float32)]"
      ]
     },
     "execution_count": 17,
     "metadata": {},
     "output_type": "execute_result"
    }
   ],
   "source": [
    "layer_dense.get_weights()"
   ]
  },
  {
   "cell_type": "code",
   "execution_count": 18,
   "metadata": {
    "collapsed": false
   },
   "outputs": [
    {
     "data": {
      "text/plain": [
       "[array([[-0.02868284, -0.42543471, -0.458038  ,  0.72853565, -0.66938698],\n",
       "        [ 0.30541494, -0.05298508,  0.15940712, -0.81592357,  0.52520168],\n",
       "        [-0.05595772,  0.5223909 ,  0.22461137,  0.72254401, -0.00585325]], dtype=float32),\n",
       " array([ 0.,  0.,  0.,  0.,  0.], dtype=float32)]"
      ]
     },
     "execution_count": 18,
     "metadata": {},
     "output_type": "execute_result"
    }
   ],
   "source": [
    "layer_timedistributed.get_weights()"
   ]
  },
  {
   "cell_type": "code",
   "execution_count": 14,
   "metadata": {
    "collapsed": false
   },
   "outputs": [],
   "source": [
    "weights = layer.get_weights()"
   ]
  },
  {
   "cell_type": "code",
   "execution_count": 15,
   "metadata": {
    "collapsed": false
   },
   "outputs": [],
   "source": [
    "A, b = tuple(weights)"
   ]
  },
  {
   "cell_type": "code",
   "execution_count": 16,
   "metadata": {
    "collapsed": false
   },
   "outputs": [
    {
     "data": {
      "text/plain": [
       "(array([[-0.02868284, -0.42543471, -0.458038  ,  0.72853565, -0.66938698],\n",
       "        [ 0.30541494, -0.05298508,  0.15940712, -0.81592357,  0.52520168],\n",
       "        [-0.05595772,  0.5223909 ,  0.22461137,  0.72254401, -0.00585325]], dtype=float32),\n",
       " array([ 0.,  0.,  0.,  0.,  0.], dtype=float32))"
      ]
     },
     "execution_count": 16,
     "metadata": {},
     "output_type": "execute_result"
    }
   ],
   "source": [
    "A, b"
   ]
  },
  {
   "cell_type": "code",
   "execution_count": 43,
   "metadata": {
    "collapsed": false
   },
   "outputs": [],
   "source": [
    "model_outputs = model.predict(inputs)"
   ]
  },
  {
   "cell_type": "code",
   "execution_count": 44,
   "metadata": {
    "collapsed": false
   },
   "outputs": [
    {
     "data": {
      "text/plain": [
       "(5, 10, 5)"
      ]
     },
     "execution_count": 44,
     "metadata": {},
     "output_type": "execute_result"
    }
   ],
   "source": [
    "model_outputs.shape"
   ]
  },
  {
   "cell_type": "code",
   "execution_count": 47,
   "metadata": {
    "collapsed": false
   },
   "outputs": [
    {
     "data": {
      "text/plain": [
       "array([[-0.64844888,  1.0640558 ,  0.48471129, -0.11603329, -0.22192249],\n",
       "       [-0.17303145,  0.71001273,  0.33775923, -0.02889583,  0.3989706 ],\n",
       "       [-0.15022774,  0.54245305,  0.09774952,  0.11378523,  0.0167757 ],\n",
       "       [-0.20771495,  0.77052718,  0.36160511, -0.03172724,  0.38494378],\n",
       "       [-0.35274071,  0.65523911,  0.24684127, -0.01536925, -0.1236347 ],\n",
       "       [-0.63108528,  1.31589222,  0.64732534, -0.14518858,  0.14585555],\n",
       "       [-0.17380908,  0.79767597,  0.41543335, -0.05906264,  0.54628158],\n",
       "       [-0.6672278 ,  0.87207937,  0.52258348, -0.2365528 , -0.25945812],\n",
       "       [-0.32104048,  0.91482973,  0.50361967, -0.12010008,  0.42329538],\n",
       "       [-0.21693446,  0.50828242,  0.25930461, -0.05787097,  0.12508787]], dtype=float32)"
      ]
     },
     "execution_count": 47,
     "metadata": {},
     "output_type": "execute_result"
    }
   ],
   "source": [
    "model_outputs[0]"
   ]
  },
  {
   "cell_type": "code",
   "execution_count": 48,
   "metadata": {
    "collapsed": false
   },
   "outputs": [
    {
     "data": {
      "text/plain": [
       "array([[-0.64844885,  1.06405574,  0.48471128, -0.11603328, -0.22192249],\n",
       "       [-0.17303146,  0.71001276,  0.33775922, -0.02889583,  0.39897057],\n",
       "       [-0.15022774,  0.54245307,  0.09774953,  0.11378523,  0.0167757 ],\n",
       "       [-0.20771493,  0.77052717,  0.36160512, -0.03172723,  0.38494381],\n",
       "       [-0.35274069,  0.6552391 ,  0.24684127, -0.01536925, -0.12363468],\n",
       "       [-0.6310853 ,  1.31589218,  0.64732537, -0.14518862,  0.14585555],\n",
       "       [-0.17380909,  0.79767596,  0.41543336, -0.05906264,  0.54628159],\n",
       "       [-0.66722777,  0.87207934,  0.52258347, -0.2365528 , -0.25945812],\n",
       "       [-0.32104049,  0.91482973,  0.50361967, -0.12010009,  0.42329538],\n",
       "       [-0.21693444,  0.50828237,  0.25930461, -0.05787096,  0.12508789]])"
      ]
     },
     "execution_count": 48,
     "metadata": {},
     "output_type": "execute_result"
    }
   ],
   "source": [
    "np.dot(inputs[0], A) + b"
   ]
  },
  {
   "cell_type": "code",
   "execution_count": 49,
   "metadata": {
    "collapsed": false,
    "scrolled": false
   },
   "outputs": [],
   "source": [
    "for i in range(num_samples):\n",
    "    assert np.allclose(model_outputs[0], np.dot(inputs[0], A) + b)"
   ]
  }
 ],
 "metadata": {
  "kernelspec": {
   "display_name": "Python 3",
   "language": "python",
   "name": "python3"
  },
  "language_info": {
   "codemirror_mode": {
    "name": "ipython",
    "version": 3
   },
   "file_extension": ".py",
   "mimetype": "text/x-python",
   "name": "python",
   "nbconvert_exporter": "python",
   "pygments_lexer": "ipython3",
   "version": "3.6.0"
  },
  "toc": {
   "colors": {
    "hover_highlight": "#DAA520",
    "running_highlight": "#FF0000",
    "selected_highlight": "#FFD700"
   },
   "moveMenuLeft": true,
   "nav_menu": {
    "height": "12px",
    "width": "252px"
   },
   "navigate_menu": true,
   "number_sections": true,
   "sideBar": true,
   "threshold": 4,
   "toc_cell": false,
   "toc_section_display": "block",
   "toc_window_display": false,
   "widenNotebook": false
  }
 },
 "nbformat": 4,
 "nbformat_minor": 2
}
