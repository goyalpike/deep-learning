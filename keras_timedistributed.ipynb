{
 "cells": [
  {
   "cell_type": "code",
   "execution_count": 1,
   "metadata": {
    "scrolled": true
   },
   "outputs": [
    {
     "name": "stderr",
     "output_type": "stream",
     "text": [
      "Using TensorFlow backend.\n"
     ]
    }
   ],
   "source": [
    "import keras\n",
    "import numpy as np"
   ]
  },
  {
   "cell_type": "code",
   "execution_count": 2,
   "metadata": {},
   "outputs": [
    {
     "data": {
      "text/plain": [
       "keras.layers.wrappers.TimeDistributed"
      ]
     },
     "execution_count": 2,
     "metadata": {},
     "output_type": "execute_result"
    }
   ],
   "source": [
    "keras.layers.TimeDistributed"
   ]
  },
  {
   "cell_type": "code",
   "execution_count": 3,
   "metadata": {
    "collapsed": true
   },
   "outputs": [],
   "source": [
    "keras.layers.TimeDistributed??"
   ]
  },
  {
   "cell_type": "code",
   "execution_count": 4,
   "metadata": {
    "collapsed": true,
    "scrolled": true
   },
   "outputs": [],
   "source": [
    "num_samples = 10\n",
    "num_timestamps = 7 \n",
    "num_features = 3\n",
    "\n",
    "inputs = np.random.random(size=(num_samples, num_timestamps, num_features))"
   ]
  },
  {
   "cell_type": "code",
   "execution_count": 5,
   "metadata": {
    "collapsed": true
   },
   "outputs": [],
   "source": [
    "model = keras.models.Sequential()"
   ]
  },
  {
   "cell_type": "code",
   "execution_count": 6,
   "metadata": {
    "collapsed": true
   },
   "outputs": [],
   "source": [
    "layer_dense = keras.layers.Dense(5)"
   ]
  },
  {
   "cell_type": "code",
   "execution_count": 7,
   "metadata": {
    "collapsed": true
   },
   "outputs": [],
   "source": [
    "layer_timedistributed = keras.layers.TimeDistributed(layer_dense, input_shape=(num_timestamps, num_features))"
   ]
  },
  {
   "cell_type": "code",
   "execution_count": 8,
   "metadata": {
    "collapsed": true
   },
   "outputs": [],
   "source": [
    "model.add(layer_timedistributed)"
   ]
  },
  {
   "cell_type": "code",
   "execution_count": 9,
   "metadata": {
    "scrolled": false
   },
   "outputs": [
    {
     "data": {
      "text/plain": [
       "(None, 7, 5)"
      ]
     },
     "execution_count": 9,
     "metadata": {},
     "output_type": "execute_result"
    }
   ],
   "source": [
    "model.output_shape"
   ]
  },
  {
   "cell_type": "code",
   "execution_count": 10,
   "metadata": {
    "scrolled": true
   },
   "outputs": [
    {
     "name": "stdout",
     "output_type": "stream",
     "text": [
      "_________________________________________________________________\n",
      "Layer (type)                 Output Shape              Param #   \n",
      "=================================================================\n",
      "time_distributed_1 (TimeDist (None, 7, 5)              20        \n",
      "=================================================================\n",
      "Total params: 20\n",
      "Trainable params: 20\n",
      "Non-trainable params: 0\n",
      "_________________________________________________________________\n"
     ]
    }
   ],
   "source": [
    "model.summary()"
   ]
  },
  {
   "cell_type": "code",
   "execution_count": 23,
   "metadata": {},
   "outputs": [],
   "source": [
    "assert 5 * (num_features + 1) == 20"
   ]
  },
  {
   "cell_type": "code",
   "execution_count": 11,
   "metadata": {
    "scrolled": false
   },
   "outputs": [
    {
     "data": {
      "text/plain": [
       "[array([[-0.66772366,  0.52132183, -0.36876485, -0.48177007, -0.72171068],\n",
       "        [-0.23134416, -0.80405664,  0.3929823 , -0.8551895 ,  0.63910371],\n",
       "        [ 0.15922648, -0.77602291, -0.73062301, -0.51143992,  0.77510244]], dtype=float32),\n",
       " array([ 0.,  0.,  0.,  0.,  0.], dtype=float32)]"
      ]
     },
     "execution_count": 11,
     "metadata": {},
     "output_type": "execute_result"
    }
   ],
   "source": [
    "layer_dense.get_weights()"
   ]
  },
  {
   "cell_type": "code",
   "execution_count": 12,
   "metadata": {},
   "outputs": [
    {
     "data": {
      "text/plain": [
       "[array([[-0.66772366,  0.52132183, -0.36876485, -0.48177007, -0.72171068],\n",
       "        [-0.23134416, -0.80405664,  0.3929823 , -0.8551895 ,  0.63910371],\n",
       "        [ 0.15922648, -0.77602291, -0.73062301, -0.51143992,  0.77510244]], dtype=float32),\n",
       " array([ 0.,  0.,  0.,  0.,  0.], dtype=float32)]"
      ]
     },
     "execution_count": 12,
     "metadata": {},
     "output_type": "execute_result"
    }
   ],
   "source": [
    "layer_timedistributed.get_weights()"
   ]
  },
  {
   "cell_type": "code",
   "execution_count": 13,
   "metadata": {
    "collapsed": true
   },
   "outputs": [],
   "source": [
    "weights = model.get_weights()"
   ]
  },
  {
   "cell_type": "code",
   "execution_count": 14,
   "metadata": {
    "collapsed": true
   },
   "outputs": [],
   "source": [
    "A, b = tuple(weights)"
   ]
  },
  {
   "cell_type": "code",
   "execution_count": 15,
   "metadata": {},
   "outputs": [
    {
     "data": {
      "text/plain": [
       "(array([[-0.66772366,  0.52132183, -0.36876485, -0.48177007, -0.72171068],\n",
       "        [-0.23134416, -0.80405664,  0.3929823 , -0.8551895 ,  0.63910371],\n",
       "        [ 0.15922648, -0.77602291, -0.73062301, -0.51143992,  0.77510244]], dtype=float32),\n",
       " array([ 0.,  0.,  0.,  0.,  0.], dtype=float32))"
      ]
     },
     "execution_count": 15,
     "metadata": {},
     "output_type": "execute_result"
    }
   ],
   "source": [
    "A, b"
   ]
  },
  {
   "cell_type": "code",
   "execution_count": 16,
   "metadata": {
    "collapsed": true,
    "scrolled": true
   },
   "outputs": [],
   "source": [
    "model_outputs = model.predict(inputs)"
   ]
  },
  {
   "cell_type": "code",
   "execution_count": 17,
   "metadata": {},
   "outputs": [
    {
     "data": {
      "text/plain": [
       "(10, 7, 5)"
      ]
     },
     "execution_count": 17,
     "metadata": {},
     "output_type": "execute_result"
    }
   ],
   "source": [
    "model_outputs.shape"
   ]
  },
  {
   "cell_type": "code",
   "execution_count": 18,
   "metadata": {},
   "outputs": [
    {
     "data": {
      "text/plain": [
       "array([[-0.44256112, -0.1379389 , -0.20829447, -0.68948478, -0.03903846],\n",
       "       [-0.39080343, -0.61671549, -0.49699506, -1.03917682,  0.41959769],\n",
       "       [-0.3365452 , -0.52745682, -0.68107039, -0.92923522,  0.3611936 ],\n",
       "       [-0.14316815, -1.30352938, -0.22088516, -1.22329271,  1.13437426],\n",
       "       [-0.25672907, -1.15135252, -0.49072647, -1.2863121 ,  0.95644426],\n",
       "       [-0.21583688, -0.04359081, -0.17377947, -0.32846937, -0.03967885],\n",
       "       [-0.4873299 , -0.68374008, -0.14400278, -1.1597482 ,  0.43970975]], dtype=float32)"
      ]
     },
     "execution_count": 18,
     "metadata": {},
     "output_type": "execute_result"
    }
   ],
   "source": [
    "model_outputs[4]"
   ]
  },
  {
   "cell_type": "code",
   "execution_count": 19,
   "metadata": {},
   "outputs": [
    {
     "data": {
      "text/plain": [
       "array([[-0.44256114, -0.13793889, -0.20829447, -0.68948477, -0.03903846],\n",
       "       [-0.39080342, -0.6167155 , -0.49699507, -1.03917684,  0.4195977 ],\n",
       "       [-0.33654522, -0.52745681, -0.68107044, -0.92923522,  0.36119357],\n",
       "       [-0.14316817, -1.3035294 , -0.22088514, -1.22329278,  1.13437419],\n",
       "       [-0.25672906, -1.15135252, -0.49072647, -1.28631215,  0.95644429],\n",
       "       [-0.21583689, -0.0435908 , -0.17377947, -0.32846938, -0.03967886],\n",
       "       [-0.48732993, -0.68374006, -0.14400279, -1.15974818,  0.43970975]])"
      ]
     },
     "execution_count": 19,
     "metadata": {},
     "output_type": "execute_result"
    }
   ],
   "source": [
    "np.dot(inputs[4], A) + b"
   ]
  },
  {
   "cell_type": "code",
   "execution_count": 20,
   "metadata": {
    "collapsed": true,
    "scrolled": false
   },
   "outputs": [],
   "source": [
    "for i in range(num_samples):\n",
    "    assert np.allclose(model_outputs[i], np.dot(inputs[i], A) + b)"
   ]
  },
  {
   "cell_type": "code",
   "execution_count": null,
   "metadata": {
    "collapsed": true
   },
   "outputs": [],
   "source": []
  }
 ],
 "metadata": {
  "kernelspec": {
   "display_name": "Python 3",
   "language": "python",
   "name": "python3"
  },
  "language_info": {
   "codemirror_mode": {
    "name": "ipython",
    "version": 3
   },
   "file_extension": ".py",
   "mimetype": "text/x-python",
   "name": "python",
   "nbconvert_exporter": "python",
   "pygments_lexer": "ipython3",
   "version": "3.6.1"
  },
  "toc": {
   "nav_menu": {
    "height": "12px",
    "width": "252px"
   },
   "number_sections": true,
   "sideBar": true,
   "skip_h1_title": false,
   "toc_cell": false,
   "toc_position": {},
   "toc_section_display": "block",
   "toc_window_display": false
  }
 },
 "nbformat": 4,
 "nbformat_minor": 2
}
