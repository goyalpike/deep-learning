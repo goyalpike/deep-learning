{
 "cells": [
  {
   "cell_type": "code",
   "execution_count": 1,
   "metadata": {
    "scrolled": true
   },
   "outputs": [
    {
     "name": "stderr",
     "output_type": "stream",
     "text": [
      "Using TensorFlow backend.\n"
     ]
    }
   ],
   "source": [
    "import keras\n",
    "import numpy as np"
   ]
  },
  {
   "cell_type": "code",
   "execution_count": 2,
   "metadata": {},
   "outputs": [
    {
     "data": {
      "text/plain": [
       "keras.layers.wrappers.TimeDistributed"
      ]
     },
     "execution_count": 2,
     "metadata": {},
     "output_type": "execute_result"
    }
   ],
   "source": [
    "keras.layers.TimeDistributed"
   ]
  },
  {
   "cell_type": "code",
   "execution_count": 3,
   "metadata": {},
   "outputs": [],
   "source": [
    "keras.layers.TimeDistributed??"
   ]
  },
  {
   "cell_type": "code",
   "execution_count": 4,
   "metadata": {
    "scrolled": true
   },
   "outputs": [],
   "source": [
    "num_samples = 10\n",
    "num_timestamps = 7 \n",
    "num_features = 3\n",
    "\n",
    "inputs = np.random.random(size=(num_samples, num_timestamps, num_features))"
   ]
  },
  {
   "cell_type": "code",
   "execution_count": 5,
   "metadata": {
    "collapsed": true
   },
   "outputs": [],
   "source": [
    "model = keras.models.Sequential()"
   ]
  },
  {
   "cell_type": "code",
   "execution_count": 6,
   "metadata": {},
   "outputs": [],
   "source": [
    "layer_dense = keras.layers.Dense(5)"
   ]
  },
  {
   "cell_type": "code",
   "execution_count": 7,
   "metadata": {},
   "outputs": [],
   "source": [
    "layer_timedistributed = keras.layers.TimeDistributed(layer_dense, input_shape=(num_timestamps, num_features))"
   ]
  },
  {
   "cell_type": "code",
   "execution_count": 8,
   "metadata": {},
   "outputs": [],
   "source": [
    "model.add(layer_timedistributed)"
   ]
  },
  {
   "cell_type": "code",
   "execution_count": 9,
   "metadata": {
    "scrolled": false
   },
   "outputs": [
    {
     "data": {
      "text/plain": [
       "(None, 7, 5)"
      ]
     },
     "execution_count": 9,
     "metadata": {},
     "output_type": "execute_result"
    }
   ],
   "source": [
    "model.output_shape"
   ]
  },
  {
   "cell_type": "code",
   "execution_count": 10,
   "metadata": {
    "scrolled": false
   },
   "outputs": [
    {
     "data": {
      "text/plain": [
       "[array([[ 0.84030336,  0.57190448, -0.18631661,  0.63358027,  0.41494328],\n",
       "        [-0.21562678,  0.43189341, -0.57658887,  0.43397576, -0.71485853],\n",
       "        [ 0.64457697, -0.01941913, -0.53751111, -0.30122697,  0.60030288]], dtype=float32),\n",
       " array([ 0.,  0.,  0.,  0.,  0.], dtype=float32)]"
      ]
     },
     "execution_count": 10,
     "metadata": {},
     "output_type": "execute_result"
    }
   ],
   "source": [
    "layer_dense.get_weights()"
   ]
  },
  {
   "cell_type": "code",
   "execution_count": 11,
   "metadata": {},
   "outputs": [
    {
     "data": {
      "text/plain": [
       "[array([[ 0.84030336,  0.57190448, -0.18631661,  0.63358027,  0.41494328],\n",
       "        [-0.21562678,  0.43189341, -0.57658887,  0.43397576, -0.71485853],\n",
       "        [ 0.64457697, -0.01941913, -0.53751111, -0.30122697,  0.60030288]], dtype=float32),\n",
       " array([ 0.,  0.,  0.,  0.,  0.], dtype=float32)]"
      ]
     },
     "execution_count": 11,
     "metadata": {},
     "output_type": "execute_result"
    }
   ],
   "source": [
    "layer_timedistributed.get_weights()"
   ]
  },
  {
   "cell_type": "code",
   "execution_count": 12,
   "metadata": {},
   "outputs": [],
   "source": [
    "weights = model.get_weights()"
   ]
  },
  {
   "cell_type": "code",
   "execution_count": 13,
   "metadata": {},
   "outputs": [],
   "source": [
    "A, b = tuple(weights)"
   ]
  },
  {
   "cell_type": "code",
   "execution_count": 14,
   "metadata": {},
   "outputs": [
    {
     "data": {
      "text/plain": [
       "(array([[ 0.84030336,  0.57190448, -0.18631661,  0.63358027,  0.41494328],\n",
       "        [-0.21562678,  0.43189341, -0.57658887,  0.43397576, -0.71485853],\n",
       "        [ 0.64457697, -0.01941913, -0.53751111, -0.30122697,  0.60030288]], dtype=float32),\n",
       " array([ 0.,  0.,  0.,  0.,  0.], dtype=float32))"
      ]
     },
     "execution_count": 14,
     "metadata": {},
     "output_type": "execute_result"
    }
   ],
   "source": [
    "A, b"
   ]
  },
  {
   "cell_type": "code",
   "execution_count": 15,
   "metadata": {
    "scrolled": true
   },
   "outputs": [],
   "source": [
    "model_outputs = model.predict(inputs)"
   ]
  },
  {
   "cell_type": "code",
   "execution_count": 16,
   "metadata": {},
   "outputs": [
    {
     "data": {
      "text/plain": [
       "(10, 7, 5)"
      ]
     },
     "execution_count": 16,
     "metadata": {},
     "output_type": "execute_result"
    }
   ],
   "source": [
    "model_outputs.shape"
   ]
  },
  {
   "cell_type": "code",
   "execution_count": 21,
   "metadata": {},
   "outputs": [
    {
     "data": {
      "text/plain": [
       "array([[ 0.84577513,  0.94178897, -0.94300318,  0.8875255 , -0.0482645 ],\n",
       "       [ 0.58922052,  0.38689622, -0.50299948,  0.29238474,  0.21875703],\n",
       "       [ 0.88777542,  0.52489221, -0.87660909,  0.31643659,  0.34988993],\n",
       "       [ 0.24017449,  0.46807706, -0.78549159,  0.35216254, -0.29230112],\n",
       "       [ 0.81307632,  0.62967849, -0.60512751,  0.57036889,  0.24434847],\n",
       "       [ 0.43466431,  0.40513209, -0.74787736,  0.2513833 , -0.02011293],\n",
       "       [ 0.37965047,  0.66358453, -0.62807912,  0.66619927, -0.26250267]], dtype=float32)"
      ]
     },
     "execution_count": 21,
     "metadata": {},
     "output_type": "execute_result"
    }
   ],
   "source": [
    "model_outputs[4]"
   ]
  },
  {
   "cell_type": "code",
   "execution_count": 22,
   "metadata": {},
   "outputs": [
    {
     "data": {
      "text/plain": [
       "array([[ 0.84577515,  0.94178905, -0.94300315,  0.88752552, -0.0482645 ],\n",
       "       [ 0.58922055,  0.38689622, -0.50299947,  0.29238474,  0.21875704],\n",
       "       [ 0.8877754 ,  0.52489222, -0.87660906,  0.31643661,  0.34988996],\n",
       "       [ 0.24017449,  0.46807706, -0.78549162,  0.35216254, -0.29230112],\n",
       "       [ 0.81307631,  0.62967851, -0.60512751,  0.5703689 ,  0.24434847],\n",
       "       [ 0.43466432,  0.40513211, -0.74787734,  0.25138329, -0.02011292],\n",
       "       [ 0.37965048,  0.66358456, -0.62807917,  0.66619925, -0.26250269]])"
      ]
     },
     "execution_count": 22,
     "metadata": {},
     "output_type": "execute_result"
    }
   ],
   "source": [
    "np.dot(inputs[4], A) + b"
   ]
  },
  {
   "cell_type": "code",
   "execution_count": 20,
   "metadata": {
    "scrolled": false
   },
   "outputs": [],
   "source": [
    "for i in range(num_samples):\n",
    "    assert np.allclose(model_outputs[i], np.dot(inputs[i], A) + b)"
   ]
  },
  {
   "cell_type": "code",
   "execution_count": null,
   "metadata": {
    "collapsed": true
   },
   "outputs": [],
   "source": []
  }
 ],
 "metadata": {
  "kernelspec": {
   "display_name": "Python 3",
   "language": "python",
   "name": "python3"
  },
  "language_info": {
   "codemirror_mode": {
    "name": "ipython",
    "version": 3
   },
   "file_extension": ".py",
   "mimetype": "text/x-python",
   "name": "python",
   "nbconvert_exporter": "python",
   "pygments_lexer": "ipython3",
   "version": "3.6.1"
  },
  "toc": {
   "nav_menu": {
    "height": "12px",
    "width": "252px"
   },
   "number_sections": true,
   "sideBar": true,
   "skip_h1_title": false,
   "toc_cell": false,
   "toc_position": {},
   "toc_section_display": "block",
   "toc_window_display": false
  }
 },
 "nbformat": 4,
 "nbformat_minor": 2
}
