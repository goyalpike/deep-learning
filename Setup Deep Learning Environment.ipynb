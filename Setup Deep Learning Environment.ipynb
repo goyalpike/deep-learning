{
 "cells": [
  {
   "cell_type": "markdown",
   "metadata": {},
   "source": [
    "## Modules to install\n",
    "- bcolz\n",
    "- theano\n",
    "- keras\n",
    "  - [Issue with new keras version 2.0.1](https://github.com/fchollet/keras/issues/5870). Instead use \n",
    "  ```\n",
    "  conda install -c conda-forge keras=1.2.2\n",
    "  ```\n",
    "\n",
    "## Set Keras backend \n",
    "### In `~/.keras/keras.json`:\n",
    "#### Theano backend\n",
    "```\n",
    "{\n",
    "    \"image_dim_ordering\": \"th\", \n",
    "    \"epsilon\": 1e-07, \n",
    "    \"floatx\": \"float32\", \n",
    "    \"backend\": \"theano\"\n",
    "}\n",
    "\n",
    "```\n",
    "#### Tensorflow backend\n",
    "\n",
    "```\n",
    "{\n",
    "    \"image_dim_ordering\": \"tf\", \n",
    "    \"epsilon\": 1e-07, \n",
    "    \"floatx\": \"float32\", \n",
    "    \"backend\": \"tensorflow\"\n",
    "}\n",
    "```\n",
    "### In `.bash_profile`:\n",
    "`export KERAS_BACKEND=\"theano\"`\n",
    "\n",
    "### In code: \n",
    "Set \n",
    "```\n",
    "os.environ[\"KERAS_BACKEND\"] = \"theano\"\n",
    "```\n",
    "## Make theano use cpu instead of gpu\n",
    "Where is `.theanorc`? There is no such file but can be created by running (as instructed [here](http://stackoverflow.com/questions/21608025/how-to-set-up-theano-config))\n",
    "```\n",
    "echo -e \"\\n[global]\\nfloatX=float32\\n\" >> ~/.theanorc\n",
    "```\n",
    "Then set `~/.theanorc` to be\n",
    "```\n",
    "[global]\n",
    "device=cpu\n",
    "floatX=float32\n",
    "\n",
    "```\n",
    "\n",
    "## Use Theano dim ordering\n",
    "```\n",
    "from keras import backend as K\n",
    "K.set_image_dim_ordering('th')\n",
    "```\n",
    "See comments \"get `(None, -1, 26, 32)` instead, what’s happening\" [here](https://elitedatascience.com/keras-tutorial-deep-learning-in-python)\n",
    "\n",
    "## Misc\n",
    "For [fast.ai](http://www.fast.ai/), use py27 virtual env."
   ]
  }
 ],
 "metadata": {
  "anaconda-cloud": {},
  "kernelspec": {
   "display_name": "Python 3",
   "language": "python",
   "name": "python3"
  },
  "language_info": {
   "codemirror_mode": {
    "name": "ipython",
    "version": 3
   },
   "file_extension": ".py",
   "mimetype": "text/x-python",
   "name": "python",
   "nbconvert_exporter": "python",
   "pygments_lexer": "ipython3",
   "version": "3.6.0"
  },
  "toc": {
   "colors": {
    "hover_highlight": "#DAA520",
    "running_highlight": "#FF0000",
    "selected_highlight": "#FFD700"
   },
   "moveMenuLeft": true,
   "nav_menu": {
    "height": "266px",
    "width": "252px"
   },
   "navigate_menu": true,
   "number_sections": true,
   "sideBar": true,
   "threshold": 4,
   "toc_cell": false,
   "toc_position": {
    "height": "474px",
    "left": "0px",
    "right": "940px",
    "top": "107px",
    "width": "212px"
   },
   "toc_section_display": "block",
   "toc_window_display": true,
   "widenNotebook": false
  }
 },
 "nbformat": 4,
 "nbformat_minor": 1
}
